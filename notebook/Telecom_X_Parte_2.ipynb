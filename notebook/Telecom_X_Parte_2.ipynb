{
  "nbformat": 4,
  "nbformat_minor": 0,
  "metadata": {
    "colab": {
      "provenance": []
    },
    "kernelspec": {
      "name": "python3",
      "display_name": "Python 3"
    },
    "language_info": {
      "name": "python"
    }
  },
  "cells": [
    {
      "cell_type": "markdown",
      "source": [
        "# 1. Carga y Preprocesamiento de Datos\n",
        "## 1.1 Importar librerías y leer el CSV"
      ],
      "metadata": {
        "id": "PXzW4VwvHajJ"
      }
    },
    {
      "cell_type": "code",
      "execution_count": 22,
      "metadata": {
        "id": "Vwoks2nyHNUk"
      },
      "outputs": [],
      "source": [
        "import pandas as pd\n",
        "from sklearn.model_selection import train_test_split\n",
        "from sklearn.preprocessing import OneHotEncoder, StandardScaler\n",
        "from sklearn.compose import ColumnTransformer\n",
        "from sklearn.pipeline import Pipeline\n",
        "\n",
        "import seaborn as sns\n",
        "import matplotlib.pyplot as plt\n",
        "\n",
        "df = pd.read_csv(\"df_estandarizado.csv\")"
      ]
    },
    {
      "cell_type": "markdown",
      "source": [
        "## 1.2 Inspección inicial\n",
        "* Diccionario de datos\n",
        "* Verificar tipos de datos y valores nulos (df.info(), df.isnull().sum()).\n",
        "* Corregir tipos de columnas (por ejemplo, Charges.Total a float)."
      ],
      "metadata": {
        "id": "Pk69Oig6Hu_M"
      }
    },
    {
      "cell_type": "markdown",
      "source": [
        "Diccionario de datos\n",
        "* customerID: número de identificación único de cada cliente\n",
        "* Churn: si el cliente dejó o no la empresa gender:\n",
        "* género (masculino y femenino)\n",
        "* SeniorCitizen: información sobre si un cliente tiene o no una edad igual o mayor a 65 años\n",
        "* Partner: si el cliente tiene o no una pareja\n",
        "* Dependents: si el cliente tiene o no dependientes\n",
        "* tenure: meses de contrato del cliente\n",
        "* PhoneService: suscripción al servicio telefónico\n",
        "* MultipleLines: suscripción a más de una línea telefónica\n",
        "* InternetService: suscripción a un proveedor de internet\n",
        "* OnlineSecurity: suscripción adicional de seguridad en línea\n",
        "* OnlineBackup: suscripción adicional de respaldo en línea\n",
        "* DeviceProtection: suscripción adicional de protección del dispositivo\n",
        "* TechSupport: suscripción adicional de soporte técnico, menor tiempo de espera\n",
        "* StreamingTV: suscripción de televisión por cable\n",
        "* StreamingMovies: suscripción de streaming de películas\n",
        "* Contract: tipo de contrato\n",
        "* PaperlessBilling: si el cliente prefiere recibir la factura en línea\n",
        "* PaymentMethod: forma de pago\n",
        "* Charges.Monthly: total de todos los servicios del cliente por mes Charges.\n",
        "* Total: total gastado por el cliente\n",
        "* Cuentas_Diarias: total pagado por día en un mes"
      ],
      "metadata": {
        "id": "cfPQVWmQIIoh"
      }
    },
    {
      "cell_type": "code",
      "source": [
        "df.info()\n",
        "df.isnull().sum()"
      ],
      "metadata": {
        "colab": {
          "base_uri": "https://localhost:8080/",
          "height": 1000
        },
        "id": "TJalkgWRH3_C",
        "outputId": "0f527907-c6b4-4eca-c2eb-87f507e93ef8"
      },
      "execution_count": 2,
      "outputs": [
        {
          "output_type": "stream",
          "name": "stdout",
          "text": [
            "<class 'pandas.core.frame.DataFrame'>\n",
            "RangeIndex: 7032 entries, 0 to 7031\n",
            "Data columns (total 21 columns):\n",
            " #   Column                     Non-Null Count  Dtype  \n",
            "---  ------                     --------------  -----  \n",
            " 0   Churn                      7032 non-null   int64  \n",
            " 1   customer.gender            7032 non-null   int64  \n",
            " 2   customer.SeniorCitizen     7032 non-null   int64  \n",
            " 3   customer.Partner           7032 non-null   int64  \n",
            " 4   customer.Dependents        7032 non-null   int64  \n",
            " 5   customer.tenure            7032 non-null   float64\n",
            " 6   phone.PhoneService         7032 non-null   int64  \n",
            " 7   phone.MultipleLines        7032 non-null   int64  \n",
            " 8   internet.InternetService   7032 non-null   int64  \n",
            " 9   internet.OnlineSecurity    7032 non-null   int64  \n",
            " 10  internet.OnlineBackup      7032 non-null   int64  \n",
            " 11  internet.DeviceProtection  7032 non-null   int64  \n",
            " 12  internet.TechSupport       7032 non-null   int64  \n",
            " 13  internet.StreamingTV       7032 non-null   int64  \n",
            " 14  internet.StreamingMovies   7032 non-null   int64  \n",
            " 15  account.Contract           7032 non-null   int64  \n",
            " 16  account.PaperlessBilling   7032 non-null   int64  \n",
            " 17  account.PaymentMethod      7032 non-null   int64  \n",
            " 18  account.Charges.Monthly    7032 non-null   float64\n",
            " 19  account.Charges.Total      7032 non-null   float64\n",
            " 20  Cuentas_Diarias            7032 non-null   float64\n",
            "dtypes: float64(4), int64(17)\n",
            "memory usage: 1.1 MB\n"
          ]
        },
        {
          "output_type": "execute_result",
          "data": {
            "text/plain": [
              "Churn                        0\n",
              "customer.gender              0\n",
              "customer.SeniorCitizen       0\n",
              "customer.Partner             0\n",
              "customer.Dependents          0\n",
              "customer.tenure              0\n",
              "phone.PhoneService           0\n",
              "phone.MultipleLines          0\n",
              "internet.InternetService     0\n",
              "internet.OnlineSecurity      0\n",
              "internet.OnlineBackup        0\n",
              "internet.DeviceProtection    0\n",
              "internet.TechSupport         0\n",
              "internet.StreamingTV         0\n",
              "internet.StreamingMovies     0\n",
              "account.Contract             0\n",
              "account.PaperlessBilling     0\n",
              "account.PaymentMethod        0\n",
              "account.Charges.Monthly      0\n",
              "account.Charges.Total        0\n",
              "Cuentas_Diarias              0\n",
              "dtype: int64"
            ],
            "text/html": [
              "<div>\n",
              "<style scoped>\n",
              "    .dataframe tbody tr th:only-of-type {\n",
              "        vertical-align: middle;\n",
              "    }\n",
              "\n",
              "    .dataframe tbody tr th {\n",
              "        vertical-align: top;\n",
              "    }\n",
              "\n",
              "    .dataframe thead th {\n",
              "        text-align: right;\n",
              "    }\n",
              "</style>\n",
              "<table border=\"1\" class=\"dataframe\">\n",
              "  <thead>\n",
              "    <tr style=\"text-align: right;\">\n",
              "      <th></th>\n",
              "      <th>0</th>\n",
              "    </tr>\n",
              "  </thead>\n",
              "  <tbody>\n",
              "    <tr>\n",
              "      <th>Churn</th>\n",
              "      <td>0</td>\n",
              "    </tr>\n",
              "    <tr>\n",
              "      <th>customer.gender</th>\n",
              "      <td>0</td>\n",
              "    </tr>\n",
              "    <tr>\n",
              "      <th>customer.SeniorCitizen</th>\n",
              "      <td>0</td>\n",
              "    </tr>\n",
              "    <tr>\n",
              "      <th>customer.Partner</th>\n",
              "      <td>0</td>\n",
              "    </tr>\n",
              "    <tr>\n",
              "      <th>customer.Dependents</th>\n",
              "      <td>0</td>\n",
              "    </tr>\n",
              "    <tr>\n",
              "      <th>customer.tenure</th>\n",
              "      <td>0</td>\n",
              "    </tr>\n",
              "    <tr>\n",
              "      <th>phone.PhoneService</th>\n",
              "      <td>0</td>\n",
              "    </tr>\n",
              "    <tr>\n",
              "      <th>phone.MultipleLines</th>\n",
              "      <td>0</td>\n",
              "    </tr>\n",
              "    <tr>\n",
              "      <th>internet.InternetService</th>\n",
              "      <td>0</td>\n",
              "    </tr>\n",
              "    <tr>\n",
              "      <th>internet.OnlineSecurity</th>\n",
              "      <td>0</td>\n",
              "    </tr>\n",
              "    <tr>\n",
              "      <th>internet.OnlineBackup</th>\n",
              "      <td>0</td>\n",
              "    </tr>\n",
              "    <tr>\n",
              "      <th>internet.DeviceProtection</th>\n",
              "      <td>0</td>\n",
              "    </tr>\n",
              "    <tr>\n",
              "      <th>internet.TechSupport</th>\n",
              "      <td>0</td>\n",
              "    </tr>\n",
              "    <tr>\n",
              "      <th>internet.StreamingTV</th>\n",
              "      <td>0</td>\n",
              "    </tr>\n",
              "    <tr>\n",
              "      <th>internet.StreamingMovies</th>\n",
              "      <td>0</td>\n",
              "    </tr>\n",
              "    <tr>\n",
              "      <th>account.Contract</th>\n",
              "      <td>0</td>\n",
              "    </tr>\n",
              "    <tr>\n",
              "      <th>account.PaperlessBilling</th>\n",
              "      <td>0</td>\n",
              "    </tr>\n",
              "    <tr>\n",
              "      <th>account.PaymentMethod</th>\n",
              "      <td>0</td>\n",
              "    </tr>\n",
              "    <tr>\n",
              "      <th>account.Charges.Monthly</th>\n",
              "      <td>0</td>\n",
              "    </tr>\n",
              "    <tr>\n",
              "      <th>account.Charges.Total</th>\n",
              "      <td>0</td>\n",
              "    </tr>\n",
              "    <tr>\n",
              "      <th>Cuentas_Diarias</th>\n",
              "      <td>0</td>\n",
              "    </tr>\n",
              "  </tbody>\n",
              "</table>\n",
              "</div><br><label><b>dtype:</b> int64</label>"
            ]
          },
          "metadata": {},
          "execution_count": 2
        }
      ]
    },
    {
      "cell_type": "markdown",
      "source": [
        "## 1.3 Definir variables"
      ],
      "metadata": {
        "id": "-sMp9q-ZJE6c"
      }
    },
    {
      "cell_type": "code",
      "source": [
        "X = df.drop([\"Churn\"], axis=1)\n",
        "X"
      ],
      "metadata": {
        "colab": {
          "base_uri": "https://localhost:8080/",
          "height": 443
        },
        "id": "3TRE7FUpJs8M",
        "outputId": "050b940d-4808-4dde-855a-5f3edc2601d5"
      },
      "execution_count": 23,
      "outputs": [
        {
          "output_type": "execute_result",
          "data": {
            "text/plain": [
              "      customer.gender  customer.SeniorCitizen  customer.Partner  \\\n",
              "0                   0                       0                 1   \n",
              "1                   1                       0                 0   \n",
              "2                   1                       0                 0   \n",
              "3                   1                       1                 1   \n",
              "4                   0                       1                 1   \n",
              "...               ...                     ...               ...   \n",
              "7027                0                       0                 0   \n",
              "7028                1                       0                 1   \n",
              "7029                1                       0                 0   \n",
              "7030                1                       0                 1   \n",
              "7031                1                       0                 1   \n",
              "\n",
              "      customer.Dependents  customer.tenure  phone.PhoneService  \\\n",
              "0                       1        -0.954296                   1   \n",
              "1                       0        -0.954296                   1   \n",
              "2                       0        -1.158016                   1   \n",
              "3                       0        -0.791321                   1   \n",
              "4                       0        -1.198760                   1   \n",
              "...                   ...              ...                 ...   \n",
              "7027                    0        -0.791321                   1   \n",
              "7028                    0        -0.424625                   1   \n",
              "7029                    0        -1.239504                   1   \n",
              "7030                    1         1.408853                   1   \n",
              "7031                    1         1.245878                   0   \n",
              "\n",
              "      phone.MultipleLines  internet.InternetService  internet.OnlineSecurity  \\\n",
              "0                       0                         0                        0   \n",
              "1                       2                         0                        0   \n",
              "2                       0                         1                        0   \n",
              "3                       0                         1                        0   \n",
              "4                       0                         1                        0   \n",
              "...                   ...                       ...                      ...   \n",
              "7027                    0                         0                        2   \n",
              "7028                    2                         1                        0   \n",
              "7029                    0                         0                        0   \n",
              "7030                    0                         0                        2   \n",
              "7031                    1                         0                        2   \n",
              "\n",
              "      internet.OnlineBackup  internet.DeviceProtection  internet.TechSupport  \\\n",
              "0                         2                          0                     2   \n",
              "1                         0                          0                     0   \n",
              "2                         0                          2                     0   \n",
              "3                         2                          2                     0   \n",
              "4                         0                          0                     2   \n",
              "...                     ...                        ...                   ...   \n",
              "7027                      0                          0                     2   \n",
              "7028                      0                          0                     0   \n",
              "7029                      2                          0                     0   \n",
              "7030                      0                          2                     2   \n",
              "7031                      2                          2                     0   \n",
              "\n",
              "      internet.StreamingTV  internet.StreamingMovies  account.Contract  \\\n",
              "0                        2                         0                 1   \n",
              "1                        0                         2                 0   \n",
              "2                        0                         0                 0   \n",
              "3                        2                         2                 0   \n",
              "4                        2                         0                 0   \n",
              "...                    ...                       ...               ...   \n",
              "7027                     0                         0                 1   \n",
              "7028                     0                         2                 0   \n",
              "7029                     0                         0                 0   \n",
              "7030                     0                         2                 2   \n",
              "7031                     2                         2                 2   \n",
              "\n",
              "      account.PaperlessBilling  account.PaymentMethod  \\\n",
              "0                            1                      3   \n",
              "1                            0                      3   \n",
              "2                            1                      2   \n",
              "3                            1                      2   \n",
              "4                            1                      3   \n",
              "...                        ...                    ...   \n",
              "7027                         0                      3   \n",
              "7028                         1                      2   \n",
              "7029                         1                      3   \n",
              "7030                         0                      3   \n",
              "7031                         0                      2   \n",
              "\n",
              "      account.Charges.Monthly  account.Charges.Total  Cuentas_Diarias  \n",
              "0                    0.026652              -0.745607         0.026652  \n",
              "1                   -0.162819              -0.768063        -0.162819  \n",
              "2                    0.302548              -0.883456         0.302548  \n",
              "3                    1.103642              -0.461240         1.103642  \n",
              "4                    0.634952              -0.889390         0.634952  \n",
              "...                       ...                    ...              ...  \n",
              "7027                -0.320711              -0.679605        -0.320711  \n",
              "7028                 0.674841              -0.180711         0.674841  \n",
              "7029                -0.481927              -0.966443        -0.481927  \n",
              "7030                 0.101443               1.034298         0.101443  \n",
              "7031                -0.192735               0.628383        -0.192735  \n",
              "\n",
              "[7032 rows x 20 columns]"
            ],
            "text/html": [
              "\n",
              "  <div id=\"df-ab8973ac-c934-4ead-b536-bf814f02a142\" class=\"colab-df-container\">\n",
              "    <div>\n",
              "<style scoped>\n",
              "    .dataframe tbody tr th:only-of-type {\n",
              "        vertical-align: middle;\n",
              "    }\n",
              "\n",
              "    .dataframe tbody tr th {\n",
              "        vertical-align: top;\n",
              "    }\n",
              "\n",
              "    .dataframe thead th {\n",
              "        text-align: right;\n",
              "    }\n",
              "</style>\n",
              "<table border=\"1\" class=\"dataframe\">\n",
              "  <thead>\n",
              "    <tr style=\"text-align: right;\">\n",
              "      <th></th>\n",
              "      <th>customer.gender</th>\n",
              "      <th>customer.SeniorCitizen</th>\n",
              "      <th>customer.Partner</th>\n",
              "      <th>customer.Dependents</th>\n",
              "      <th>customer.tenure</th>\n",
              "      <th>phone.PhoneService</th>\n",
              "      <th>phone.MultipleLines</th>\n",
              "      <th>internet.InternetService</th>\n",
              "      <th>internet.OnlineSecurity</th>\n",
              "      <th>internet.OnlineBackup</th>\n",
              "      <th>internet.DeviceProtection</th>\n",
              "      <th>internet.TechSupport</th>\n",
              "      <th>internet.StreamingTV</th>\n",
              "      <th>internet.StreamingMovies</th>\n",
              "      <th>account.Contract</th>\n",
              "      <th>account.PaperlessBilling</th>\n",
              "      <th>account.PaymentMethod</th>\n",
              "      <th>account.Charges.Monthly</th>\n",
              "      <th>account.Charges.Total</th>\n",
              "      <th>Cuentas_Diarias</th>\n",
              "    </tr>\n",
              "  </thead>\n",
              "  <tbody>\n",
              "    <tr>\n",
              "      <th>0</th>\n",
              "      <td>0</td>\n",
              "      <td>0</td>\n",
              "      <td>1</td>\n",
              "      <td>1</td>\n",
              "      <td>-0.954296</td>\n",
              "      <td>1</td>\n",
              "      <td>0</td>\n",
              "      <td>0</td>\n",
              "      <td>0</td>\n",
              "      <td>2</td>\n",
              "      <td>0</td>\n",
              "      <td>2</td>\n",
              "      <td>2</td>\n",
              "      <td>0</td>\n",
              "      <td>1</td>\n",
              "      <td>1</td>\n",
              "      <td>3</td>\n",
              "      <td>0.026652</td>\n",
              "      <td>-0.745607</td>\n",
              "      <td>0.026652</td>\n",
              "    </tr>\n",
              "    <tr>\n",
              "      <th>1</th>\n",
              "      <td>1</td>\n",
              "      <td>0</td>\n",
              "      <td>0</td>\n",
              "      <td>0</td>\n",
              "      <td>-0.954296</td>\n",
              "      <td>1</td>\n",
              "      <td>2</td>\n",
              "      <td>0</td>\n",
              "      <td>0</td>\n",
              "      <td>0</td>\n",
              "      <td>0</td>\n",
              "      <td>0</td>\n",
              "      <td>0</td>\n",
              "      <td>2</td>\n",
              "      <td>0</td>\n",
              "      <td>0</td>\n",
              "      <td>3</td>\n",
              "      <td>-0.162819</td>\n",
              "      <td>-0.768063</td>\n",
              "      <td>-0.162819</td>\n",
              "    </tr>\n",
              "    <tr>\n",
              "      <th>2</th>\n",
              "      <td>1</td>\n",
              "      <td>0</td>\n",
              "      <td>0</td>\n",
              "      <td>0</td>\n",
              "      <td>-1.158016</td>\n",
              "      <td>1</td>\n",
              "      <td>0</td>\n",
              "      <td>1</td>\n",
              "      <td>0</td>\n",
              "      <td>0</td>\n",
              "      <td>2</td>\n",
              "      <td>0</td>\n",
              "      <td>0</td>\n",
              "      <td>0</td>\n",
              "      <td>0</td>\n",
              "      <td>1</td>\n",
              "      <td>2</td>\n",
              "      <td>0.302548</td>\n",
              "      <td>-0.883456</td>\n",
              "      <td>0.302548</td>\n",
              "    </tr>\n",
              "    <tr>\n",
              "      <th>3</th>\n",
              "      <td>1</td>\n",
              "      <td>1</td>\n",
              "      <td>1</td>\n",
              "      <td>0</td>\n",
              "      <td>-0.791321</td>\n",
              "      <td>1</td>\n",
              "      <td>0</td>\n",
              "      <td>1</td>\n",
              "      <td>0</td>\n",
              "      <td>2</td>\n",
              "      <td>2</td>\n",
              "      <td>0</td>\n",
              "      <td>2</td>\n",
              "      <td>2</td>\n",
              "      <td>0</td>\n",
              "      <td>1</td>\n",
              "      <td>2</td>\n",
              "      <td>1.103642</td>\n",
              "      <td>-0.461240</td>\n",
              "      <td>1.103642</td>\n",
              "    </tr>\n",
              "    <tr>\n",
              "      <th>4</th>\n",
              "      <td>0</td>\n",
              "      <td>1</td>\n",
              "      <td>1</td>\n",
              "      <td>0</td>\n",
              "      <td>-1.198760</td>\n",
              "      <td>1</td>\n",
              "      <td>0</td>\n",
              "      <td>1</td>\n",
              "      <td>0</td>\n",
              "      <td>0</td>\n",
              "      <td>0</td>\n",
              "      <td>2</td>\n",
              "      <td>2</td>\n",
              "      <td>0</td>\n",
              "      <td>0</td>\n",
              "      <td>1</td>\n",
              "      <td>3</td>\n",
              "      <td>0.634952</td>\n",
              "      <td>-0.889390</td>\n",
              "      <td>0.634952</td>\n",
              "    </tr>\n",
              "    <tr>\n",
              "      <th>...</th>\n",
              "      <td>...</td>\n",
              "      <td>...</td>\n",
              "      <td>...</td>\n",
              "      <td>...</td>\n",
              "      <td>...</td>\n",
              "      <td>...</td>\n",
              "      <td>...</td>\n",
              "      <td>...</td>\n",
              "      <td>...</td>\n",
              "      <td>...</td>\n",
              "      <td>...</td>\n",
              "      <td>...</td>\n",
              "      <td>...</td>\n",
              "      <td>...</td>\n",
              "      <td>...</td>\n",
              "      <td>...</td>\n",
              "      <td>...</td>\n",
              "      <td>...</td>\n",
              "      <td>...</td>\n",
              "      <td>...</td>\n",
              "    </tr>\n",
              "    <tr>\n",
              "      <th>7027</th>\n",
              "      <td>0</td>\n",
              "      <td>0</td>\n",
              "      <td>0</td>\n",
              "      <td>0</td>\n",
              "      <td>-0.791321</td>\n",
              "      <td>1</td>\n",
              "      <td>0</td>\n",
              "      <td>0</td>\n",
              "      <td>2</td>\n",
              "      <td>0</td>\n",
              "      <td>0</td>\n",
              "      <td>2</td>\n",
              "      <td>0</td>\n",
              "      <td>0</td>\n",
              "      <td>1</td>\n",
              "      <td>0</td>\n",
              "      <td>3</td>\n",
              "      <td>-0.320711</td>\n",
              "      <td>-0.679605</td>\n",
              "      <td>-0.320711</td>\n",
              "    </tr>\n",
              "    <tr>\n",
              "      <th>7028</th>\n",
              "      <td>1</td>\n",
              "      <td>0</td>\n",
              "      <td>1</td>\n",
              "      <td>0</td>\n",
              "      <td>-0.424625</td>\n",
              "      <td>1</td>\n",
              "      <td>2</td>\n",
              "      <td>1</td>\n",
              "      <td>0</td>\n",
              "      <td>0</td>\n",
              "      <td>0</td>\n",
              "      <td>0</td>\n",
              "      <td>0</td>\n",
              "      <td>2</td>\n",
              "      <td>0</td>\n",
              "      <td>1</td>\n",
              "      <td>2</td>\n",
              "      <td>0.674841</td>\n",
              "      <td>-0.180711</td>\n",
              "      <td>0.674841</td>\n",
              "    </tr>\n",
              "    <tr>\n",
              "      <th>7029</th>\n",
              "      <td>1</td>\n",
              "      <td>0</td>\n",
              "      <td>0</td>\n",
              "      <td>0</td>\n",
              "      <td>-1.239504</td>\n",
              "      <td>1</td>\n",
              "      <td>0</td>\n",
              "      <td>0</td>\n",
              "      <td>0</td>\n",
              "      <td>2</td>\n",
              "      <td>0</td>\n",
              "      <td>0</td>\n",
              "      <td>0</td>\n",
              "      <td>0</td>\n",
              "      <td>0</td>\n",
              "      <td>1</td>\n",
              "      <td>3</td>\n",
              "      <td>-0.481927</td>\n",
              "      <td>-0.966443</td>\n",
              "      <td>-0.481927</td>\n",
              "    </tr>\n",
              "    <tr>\n",
              "      <th>7030</th>\n",
              "      <td>1</td>\n",
              "      <td>0</td>\n",
              "      <td>1</td>\n",
              "      <td>1</td>\n",
              "      <td>1.408853</td>\n",
              "      <td>1</td>\n",
              "      <td>0</td>\n",
              "      <td>0</td>\n",
              "      <td>2</td>\n",
              "      <td>0</td>\n",
              "      <td>2</td>\n",
              "      <td>2</td>\n",
              "      <td>0</td>\n",
              "      <td>2</td>\n",
              "      <td>2</td>\n",
              "      <td>0</td>\n",
              "      <td>3</td>\n",
              "      <td>0.101443</td>\n",
              "      <td>1.034298</td>\n",
              "      <td>0.101443</td>\n",
              "    </tr>\n",
              "    <tr>\n",
              "      <th>7031</th>\n",
              "      <td>1</td>\n",
              "      <td>0</td>\n",
              "      <td>1</td>\n",
              "      <td>1</td>\n",
              "      <td>1.245878</td>\n",
              "      <td>0</td>\n",
              "      <td>1</td>\n",
              "      <td>0</td>\n",
              "      <td>2</td>\n",
              "      <td>2</td>\n",
              "      <td>2</td>\n",
              "      <td>0</td>\n",
              "      <td>2</td>\n",
              "      <td>2</td>\n",
              "      <td>2</td>\n",
              "      <td>0</td>\n",
              "      <td>2</td>\n",
              "      <td>-0.192735</td>\n",
              "      <td>0.628383</td>\n",
              "      <td>-0.192735</td>\n",
              "    </tr>\n",
              "  </tbody>\n",
              "</table>\n",
              "<p>7032 rows × 20 columns</p>\n",
              "</div>\n",
              "    <div class=\"colab-df-buttons\">\n",
              "\n",
              "  <div class=\"colab-df-container\">\n",
              "    <button class=\"colab-df-convert\" onclick=\"convertToInteractive('df-ab8973ac-c934-4ead-b536-bf814f02a142')\"\n",
              "            title=\"Convert this dataframe to an interactive table.\"\n",
              "            style=\"display:none;\">\n",
              "\n",
              "  <svg xmlns=\"http://www.w3.org/2000/svg\" height=\"24px\" viewBox=\"0 -960 960 960\">\n",
              "    <path d=\"M120-120v-720h720v720H120Zm60-500h600v-160H180v160Zm220 220h160v-160H400v160Zm0 220h160v-160H400v160ZM180-400h160v-160H180v160Zm440 0h160v-160H620v160ZM180-180h160v-160H180v160Zm440 0h160v-160H620v160Z\"/>\n",
              "  </svg>\n",
              "    </button>\n",
              "\n",
              "  <style>\n",
              "    .colab-df-container {\n",
              "      display:flex;\n",
              "      gap: 12px;\n",
              "    }\n",
              "\n",
              "    .colab-df-convert {\n",
              "      background-color: #E8F0FE;\n",
              "      border: none;\n",
              "      border-radius: 50%;\n",
              "      cursor: pointer;\n",
              "      display: none;\n",
              "      fill: #1967D2;\n",
              "      height: 32px;\n",
              "      padding: 0 0 0 0;\n",
              "      width: 32px;\n",
              "    }\n",
              "\n",
              "    .colab-df-convert:hover {\n",
              "      background-color: #E2EBFA;\n",
              "      box-shadow: 0px 1px 2px rgba(60, 64, 67, 0.3), 0px 1px 3px 1px rgba(60, 64, 67, 0.15);\n",
              "      fill: #174EA6;\n",
              "    }\n",
              "\n",
              "    .colab-df-buttons div {\n",
              "      margin-bottom: 4px;\n",
              "    }\n",
              "\n",
              "    [theme=dark] .colab-df-convert {\n",
              "      background-color: #3B4455;\n",
              "      fill: #D2E3FC;\n",
              "    }\n",
              "\n",
              "    [theme=dark] .colab-df-convert:hover {\n",
              "      background-color: #434B5C;\n",
              "      box-shadow: 0px 1px 3px 1px rgba(0, 0, 0, 0.15);\n",
              "      filter: drop-shadow(0px 1px 2px rgba(0, 0, 0, 0.3));\n",
              "      fill: #FFFFFF;\n",
              "    }\n",
              "  </style>\n",
              "\n",
              "    <script>\n",
              "      const buttonEl =\n",
              "        document.querySelector('#df-ab8973ac-c934-4ead-b536-bf814f02a142 button.colab-df-convert');\n",
              "      buttonEl.style.display =\n",
              "        google.colab.kernel.accessAllowed ? 'block' : 'none';\n",
              "\n",
              "      async function convertToInteractive(key) {\n",
              "        const element = document.querySelector('#df-ab8973ac-c934-4ead-b536-bf814f02a142');\n",
              "        const dataTable =\n",
              "          await google.colab.kernel.invokeFunction('convertToInteractive',\n",
              "                                                    [key], {});\n",
              "        if (!dataTable) return;\n",
              "\n",
              "        const docLinkHtml = 'Like what you see? Visit the ' +\n",
              "          '<a target=\"_blank\" href=https://colab.research.google.com/notebooks/data_table.ipynb>data table notebook</a>'\n",
              "          + ' to learn more about interactive tables.';\n",
              "        element.innerHTML = '';\n",
              "        dataTable['output_type'] = 'display_data';\n",
              "        await google.colab.output.renderOutput(dataTable, element);\n",
              "        const docLink = document.createElement('div');\n",
              "        docLink.innerHTML = docLinkHtml;\n",
              "        element.appendChild(docLink);\n",
              "      }\n",
              "    </script>\n",
              "  </div>\n",
              "\n",
              "\n",
              "    <div id=\"df-e40140e3-1527-4c4c-b9c8-a64083dc4067\">\n",
              "      <button class=\"colab-df-quickchart\" onclick=\"quickchart('df-e40140e3-1527-4c4c-b9c8-a64083dc4067')\"\n",
              "                title=\"Suggest charts\"\n",
              "                style=\"display:none;\">\n",
              "\n",
              "<svg xmlns=\"http://www.w3.org/2000/svg\" height=\"24px\"viewBox=\"0 0 24 24\"\n",
              "     width=\"24px\">\n",
              "    <g>\n",
              "        <path d=\"M19 3H5c-1.1 0-2 .9-2 2v14c0 1.1.9 2 2 2h14c1.1 0 2-.9 2-2V5c0-1.1-.9-2-2-2zM9 17H7v-7h2v7zm4 0h-2V7h2v10zm4 0h-2v-4h2v4z\"/>\n",
              "    </g>\n",
              "</svg>\n",
              "      </button>\n",
              "\n",
              "<style>\n",
              "  .colab-df-quickchart {\n",
              "      --bg-color: #E8F0FE;\n",
              "      --fill-color: #1967D2;\n",
              "      --hover-bg-color: #E2EBFA;\n",
              "      --hover-fill-color: #174EA6;\n",
              "      --disabled-fill-color: #AAA;\n",
              "      --disabled-bg-color: #DDD;\n",
              "  }\n",
              "\n",
              "  [theme=dark] .colab-df-quickchart {\n",
              "      --bg-color: #3B4455;\n",
              "      --fill-color: #D2E3FC;\n",
              "      --hover-bg-color: #434B5C;\n",
              "      --hover-fill-color: #FFFFFF;\n",
              "      --disabled-bg-color: #3B4455;\n",
              "      --disabled-fill-color: #666;\n",
              "  }\n",
              "\n",
              "  .colab-df-quickchart {\n",
              "    background-color: var(--bg-color);\n",
              "    border: none;\n",
              "    border-radius: 50%;\n",
              "    cursor: pointer;\n",
              "    display: none;\n",
              "    fill: var(--fill-color);\n",
              "    height: 32px;\n",
              "    padding: 0;\n",
              "    width: 32px;\n",
              "  }\n",
              "\n",
              "  .colab-df-quickchart:hover {\n",
              "    background-color: var(--hover-bg-color);\n",
              "    box-shadow: 0 1px 2px rgba(60, 64, 67, 0.3), 0 1px 3px 1px rgba(60, 64, 67, 0.15);\n",
              "    fill: var(--button-hover-fill-color);\n",
              "  }\n",
              "\n",
              "  .colab-df-quickchart-complete:disabled,\n",
              "  .colab-df-quickchart-complete:disabled:hover {\n",
              "    background-color: var(--disabled-bg-color);\n",
              "    fill: var(--disabled-fill-color);\n",
              "    box-shadow: none;\n",
              "  }\n",
              "\n",
              "  .colab-df-spinner {\n",
              "    border: 2px solid var(--fill-color);\n",
              "    border-color: transparent;\n",
              "    border-bottom-color: var(--fill-color);\n",
              "    animation:\n",
              "      spin 1s steps(1) infinite;\n",
              "  }\n",
              "\n",
              "  @keyframes spin {\n",
              "    0% {\n",
              "      border-color: transparent;\n",
              "      border-bottom-color: var(--fill-color);\n",
              "      border-left-color: var(--fill-color);\n",
              "    }\n",
              "    20% {\n",
              "      border-color: transparent;\n",
              "      border-left-color: var(--fill-color);\n",
              "      border-top-color: var(--fill-color);\n",
              "    }\n",
              "    30% {\n",
              "      border-color: transparent;\n",
              "      border-left-color: var(--fill-color);\n",
              "      border-top-color: var(--fill-color);\n",
              "      border-right-color: var(--fill-color);\n",
              "    }\n",
              "    40% {\n",
              "      border-color: transparent;\n",
              "      border-right-color: var(--fill-color);\n",
              "      border-top-color: var(--fill-color);\n",
              "    }\n",
              "    60% {\n",
              "      border-color: transparent;\n",
              "      border-right-color: var(--fill-color);\n",
              "    }\n",
              "    80% {\n",
              "      border-color: transparent;\n",
              "      border-right-color: var(--fill-color);\n",
              "      border-bottom-color: var(--fill-color);\n",
              "    }\n",
              "    90% {\n",
              "      border-color: transparent;\n",
              "      border-bottom-color: var(--fill-color);\n",
              "    }\n",
              "  }\n",
              "</style>\n",
              "\n",
              "      <script>\n",
              "        async function quickchart(key) {\n",
              "          const quickchartButtonEl =\n",
              "            document.querySelector('#' + key + ' button');\n",
              "          quickchartButtonEl.disabled = true;  // To prevent multiple clicks.\n",
              "          quickchartButtonEl.classList.add('colab-df-spinner');\n",
              "          try {\n",
              "            const charts = await google.colab.kernel.invokeFunction(\n",
              "                'suggestCharts', [key], {});\n",
              "          } catch (error) {\n",
              "            console.error('Error during call to suggestCharts:', error);\n",
              "          }\n",
              "          quickchartButtonEl.classList.remove('colab-df-spinner');\n",
              "          quickchartButtonEl.classList.add('colab-df-quickchart-complete');\n",
              "        }\n",
              "        (() => {\n",
              "          let quickchartButtonEl =\n",
              "            document.querySelector('#df-e40140e3-1527-4c4c-b9c8-a64083dc4067 button');\n",
              "          quickchartButtonEl.style.display =\n",
              "            google.colab.kernel.accessAllowed ? 'block' : 'none';\n",
              "        })();\n",
              "      </script>\n",
              "    </div>\n",
              "\n",
              "  <div id=\"id_3fe3a33d-1a3f-4d63-9b57-17b471637508\">\n",
              "    <style>\n",
              "      .colab-df-generate {\n",
              "        background-color: #E8F0FE;\n",
              "        border: none;\n",
              "        border-radius: 50%;\n",
              "        cursor: pointer;\n",
              "        display: none;\n",
              "        fill: #1967D2;\n",
              "        height: 32px;\n",
              "        padding: 0 0 0 0;\n",
              "        width: 32px;\n",
              "      }\n",
              "\n",
              "      .colab-df-generate:hover {\n",
              "        background-color: #E2EBFA;\n",
              "        box-shadow: 0px 1px 2px rgba(60, 64, 67, 0.3), 0px 1px 3px 1px rgba(60, 64, 67, 0.15);\n",
              "        fill: #174EA6;\n",
              "      }\n",
              "\n",
              "      [theme=dark] .colab-df-generate {\n",
              "        background-color: #3B4455;\n",
              "        fill: #D2E3FC;\n",
              "      }\n",
              "\n",
              "      [theme=dark] .colab-df-generate:hover {\n",
              "        background-color: #434B5C;\n",
              "        box-shadow: 0px 1px 3px 1px rgba(0, 0, 0, 0.15);\n",
              "        filter: drop-shadow(0px 1px 2px rgba(0, 0, 0, 0.3));\n",
              "        fill: #FFFFFF;\n",
              "      }\n",
              "    </style>\n",
              "    <button class=\"colab-df-generate\" onclick=\"generateWithVariable('X')\"\n",
              "            title=\"Generate code using this dataframe.\"\n",
              "            style=\"display:none;\">\n",
              "\n",
              "  <svg xmlns=\"http://www.w3.org/2000/svg\" height=\"24px\"viewBox=\"0 0 24 24\"\n",
              "       width=\"24px\">\n",
              "    <path d=\"M7,19H8.4L18.45,9,17,7.55,7,17.6ZM5,21V16.75L18.45,3.32a2,2,0,0,1,2.83,0l1.4,1.43a1.91,1.91,0,0,1,.58,1.4,1.91,1.91,0,0,1-.58,1.4L9.25,21ZM18.45,9,17,7.55Zm-12,3A5.31,5.31,0,0,0,4.9,8.1,5.31,5.31,0,0,0,1,6.5,5.31,5.31,0,0,0,4.9,4.9,5.31,5.31,0,0,0,6.5,1,5.31,5.31,0,0,0,8.1,4.9,5.31,5.31,0,0,0,12,6.5,5.46,5.46,0,0,0,6.5,12Z\"/>\n",
              "  </svg>\n",
              "    </button>\n",
              "    <script>\n",
              "      (() => {\n",
              "      const buttonEl =\n",
              "        document.querySelector('#id_3fe3a33d-1a3f-4d63-9b57-17b471637508 button.colab-df-generate');\n",
              "      buttonEl.style.display =\n",
              "        google.colab.kernel.accessAllowed ? 'block' : 'none';\n",
              "\n",
              "      buttonEl.onclick = () => {\n",
              "        google.colab.notebook.generateWithVariable('X');\n",
              "      }\n",
              "      })();\n",
              "    </script>\n",
              "  </div>\n",
              "\n",
              "    </div>\n",
              "  </div>\n"
            ],
            "application/vnd.google.colaboratory.intrinsic+json": {
              "type": "dataframe",
              "variable_name": "X",
              "summary": "{\n  \"name\": \"X\",\n  \"rows\": 7032,\n  \"fields\": [\n    {\n      \"column\": \"customer.gender\",\n      \"properties\": {\n        \"dtype\": \"number\",\n        \"std\": 0,\n        \"min\": 0,\n        \"max\": 1,\n        \"num_unique_values\": 2,\n        \"samples\": [\n          1,\n          0\n        ],\n        \"semantic_type\": \"\",\n        \"description\": \"\"\n      }\n    },\n    {\n      \"column\": \"customer.SeniorCitizen\",\n      \"properties\": {\n        \"dtype\": \"number\",\n        \"std\": 0,\n        \"min\": 0,\n        \"max\": 1,\n        \"num_unique_values\": 2,\n        \"samples\": [\n          1,\n          0\n        ],\n        \"semantic_type\": \"\",\n        \"description\": \"\"\n      }\n    },\n    {\n      \"column\": \"customer.Partner\",\n      \"properties\": {\n        \"dtype\": \"number\",\n        \"std\": 0,\n        \"min\": 0,\n        \"max\": 1,\n        \"num_unique_values\": 2,\n        \"samples\": [\n          0,\n          1\n        ],\n        \"semantic_type\": \"\",\n        \"description\": \"\"\n      }\n    },\n    {\n      \"column\": \"customer.Dependents\",\n      \"properties\": {\n        \"dtype\": \"number\",\n        \"std\": 0,\n        \"min\": 0,\n        \"max\": 1,\n        \"num_unique_values\": 2,\n        \"samples\": [\n          0,\n          1\n        ],\n        \"semantic_type\": \"\",\n        \"description\": \"\"\n      }\n    },\n    {\n      \"column\": \"customer.tenure\",\n      \"properties\": {\n        \"dtype\": \"number\",\n        \"std\": 1.000071111111198,\n        \"min\": -1.2802480369298874,\n        \"max\": 1.6125732136881423,\n        \"num_unique_values\": 72,\n        \"samples\": [\n          1.5718292524118322,\n          0.3495104141225239\n        ],\n        \"semantic_type\": \"\",\n        \"description\": \"\"\n      }\n    },\n    {\n      \"column\": \"phone.PhoneService\",\n      \"properties\": {\n        \"dtype\": \"number\",\n        \"std\": 0,\n        \"min\": 0,\n        \"max\": 1,\n        \"num_unique_values\": 2,\n        \"samples\": [\n          0,\n          1\n        ],\n        \"semantic_type\": \"\",\n        \"description\": \"\"\n      }\n    },\n    {\n      \"column\": \"phone.MultipleLines\",\n      \"properties\": {\n        \"dtype\": \"number\",\n        \"std\": 0,\n        \"min\": 0,\n        \"max\": 2,\n        \"num_unique_values\": 3,\n        \"samples\": [\n          0,\n          2\n        ],\n        \"semantic_type\": \"\",\n        \"description\": \"\"\n      }\n    },\n    {\n      \"column\": \"internet.InternetService\",\n      \"properties\": {\n        \"dtype\": \"number\",\n        \"std\": 0,\n        \"min\": 0,\n        \"max\": 2,\n        \"num_unique_values\": 3,\n        \"samples\": [\n          0,\n          1\n        ],\n        \"semantic_type\": \"\",\n        \"description\": \"\"\n      }\n    },\n    {\n      \"column\": \"internet.OnlineSecurity\",\n      \"properties\": {\n        \"dtype\": \"number\",\n        \"std\": 0,\n        \"min\": 0,\n        \"max\": 2,\n        \"num_unique_values\": 3,\n        \"samples\": [\n          0,\n          2\n        ],\n        \"semantic_type\": \"\",\n        \"description\": \"\"\n      }\n    },\n    {\n      \"column\": \"internet.OnlineBackup\",\n      \"properties\": {\n        \"dtype\": \"number\",\n        \"std\": 0,\n        \"min\": 0,\n        \"max\": 2,\n        \"num_unique_values\": 3,\n        \"samples\": [\n          2,\n          0\n        ],\n        \"semantic_type\": \"\",\n        \"description\": \"\"\n      }\n    },\n    {\n      \"column\": \"internet.DeviceProtection\",\n      \"properties\": {\n        \"dtype\": \"number\",\n        \"std\": 0,\n        \"min\": 0,\n        \"max\": 2,\n        \"num_unique_values\": 3,\n        \"samples\": [\n          0,\n          2\n        ],\n        \"semantic_type\": \"\",\n        \"description\": \"\"\n      }\n    },\n    {\n      \"column\": \"internet.TechSupport\",\n      \"properties\": {\n        \"dtype\": \"number\",\n        \"std\": 0,\n        \"min\": 0,\n        \"max\": 2,\n        \"num_unique_values\": 3,\n        \"samples\": [\n          2,\n          0\n        ],\n        \"semantic_type\": \"\",\n        \"description\": \"\"\n      }\n    },\n    {\n      \"column\": \"internet.StreamingTV\",\n      \"properties\": {\n        \"dtype\": \"number\",\n        \"std\": 0,\n        \"min\": 0,\n        \"max\": 2,\n        \"num_unique_values\": 3,\n        \"samples\": [\n          2,\n          0\n        ],\n        \"semantic_type\": \"\",\n        \"description\": \"\"\n      }\n    },\n    {\n      \"column\": \"internet.StreamingMovies\",\n      \"properties\": {\n        \"dtype\": \"number\",\n        \"std\": 0,\n        \"min\": 0,\n        \"max\": 2,\n        \"num_unique_values\": 3,\n        \"samples\": [\n          0,\n          2\n        ],\n        \"semantic_type\": \"\",\n        \"description\": \"\"\n      }\n    },\n    {\n      \"column\": \"account.Contract\",\n      \"properties\": {\n        \"dtype\": \"number\",\n        \"std\": 0,\n        \"min\": 0,\n        \"max\": 2,\n        \"num_unique_values\": 3,\n        \"samples\": [\n          1,\n          0\n        ],\n        \"semantic_type\": \"\",\n        \"description\": \"\"\n      }\n    },\n    {\n      \"column\": \"account.PaperlessBilling\",\n      \"properties\": {\n        \"dtype\": \"number\",\n        \"std\": 0,\n        \"min\": 0,\n        \"max\": 1,\n        \"num_unique_values\": 2,\n        \"samples\": [\n          0,\n          1\n        ],\n        \"semantic_type\": \"\",\n        \"description\": \"\"\n      }\n    },\n    {\n      \"column\": \"account.PaymentMethod\",\n      \"properties\": {\n        \"dtype\": \"number\",\n        \"std\": 1,\n        \"min\": 0,\n        \"max\": 3,\n        \"num_unique_values\": 4,\n        \"samples\": [\n          2,\n          0\n        ],\n        \"semantic_type\": \"\",\n        \"description\": \"\"\n      }\n    },\n    {\n      \"column\": \"account.Charges.Monthly\",\n      \"properties\": {\n        \"dtype\": \"number\",\n        \"std\": 1.0000711111111962,\n        \"min\": -1.5472830783322116,\n        \"max\": 1.7933814803098411,\n        \"num_unique_values\": 1584,\n        \"samples\": [\n          1.3080710071140806,\n          -0.5633659545928605\n        ],\n        \"semantic_type\": \"\",\n        \"description\": \"\"\n      }\n    },\n    {\n      \"column\": \"account.Charges.Total\",\n      \"properties\": {\n        \"dtype\": \"number\",\n        \"std\": 1.0000711111111997,\n        \"min\": -0.9990692092135558,\n        \"max\": 2.8242613633457254,\n        \"num_unique_values\": 6530,\n        \"samples\": [\n          0.0256989753481879,\n          1.3439671210679125\n        ],\n        \"semantic_type\": \"\",\n        \"description\": \"\"\n      }\n    },\n    {\n      \"column\": \"Cuentas_Diarias\",\n      \"properties\": {\n        \"dtype\": \"number\",\n        \"std\": 1.0000711111111962,\n        \"min\": -1.5472830783322111,\n        \"max\": 1.7933814803098411,\n        \"num_unique_values\": 1584,\n        \"samples\": [\n          1.3080710071140804,\n          -0.5633659545928605\n        ],\n        \"semantic_type\": \"\",\n        \"description\": \"\"\n      }\n    }\n  ]\n}"
            }
          },
          "metadata": {},
          "execution_count": 23
        }
      ]
    },
    {
      "cell_type": "code",
      "source": [
        "# Yes: 1, No: 0\n",
        "y = df[\"Churn\"]\n",
        "y"
      ],
      "metadata": {
        "colab": {
          "base_uri": "https://localhost:8080/",
          "height": 458
        },
        "id": "bfkCtaeSJx5z",
        "outputId": "4762cfab-6c03-40e8-aae9-f6c446c9cd05"
      },
      "execution_count": 24,
      "outputs": [
        {
          "output_type": "execute_result",
          "data": {
            "text/plain": [
              "0       0\n",
              "1       0\n",
              "2       1\n",
              "3       1\n",
              "4       1\n",
              "       ..\n",
              "7027    0\n",
              "7028    1\n",
              "7029    0\n",
              "7030    0\n",
              "7031    0\n",
              "Name: Churn, Length: 7032, dtype: int64"
            ],
            "text/html": [
              "<div>\n",
              "<style scoped>\n",
              "    .dataframe tbody tr th:only-of-type {\n",
              "        vertical-align: middle;\n",
              "    }\n",
              "\n",
              "    .dataframe tbody tr th {\n",
              "        vertical-align: top;\n",
              "    }\n",
              "\n",
              "    .dataframe thead th {\n",
              "        text-align: right;\n",
              "    }\n",
              "</style>\n",
              "<table border=\"1\" class=\"dataframe\">\n",
              "  <thead>\n",
              "    <tr style=\"text-align: right;\">\n",
              "      <th></th>\n",
              "      <th>Churn</th>\n",
              "    </tr>\n",
              "  </thead>\n",
              "  <tbody>\n",
              "    <tr>\n",
              "      <th>0</th>\n",
              "      <td>0</td>\n",
              "    </tr>\n",
              "    <tr>\n",
              "      <th>1</th>\n",
              "      <td>0</td>\n",
              "    </tr>\n",
              "    <tr>\n",
              "      <th>2</th>\n",
              "      <td>1</td>\n",
              "    </tr>\n",
              "    <tr>\n",
              "      <th>3</th>\n",
              "      <td>1</td>\n",
              "    </tr>\n",
              "    <tr>\n",
              "      <th>4</th>\n",
              "      <td>1</td>\n",
              "    </tr>\n",
              "    <tr>\n",
              "      <th>...</th>\n",
              "      <td>...</td>\n",
              "    </tr>\n",
              "    <tr>\n",
              "      <th>7027</th>\n",
              "      <td>0</td>\n",
              "    </tr>\n",
              "    <tr>\n",
              "      <th>7028</th>\n",
              "      <td>1</td>\n",
              "    </tr>\n",
              "    <tr>\n",
              "      <th>7029</th>\n",
              "      <td>0</td>\n",
              "    </tr>\n",
              "    <tr>\n",
              "      <th>7030</th>\n",
              "      <td>0</td>\n",
              "    </tr>\n",
              "    <tr>\n",
              "      <th>7031</th>\n",
              "      <td>0</td>\n",
              "    </tr>\n",
              "  </tbody>\n",
              "</table>\n",
              "<p>7032 rows × 1 columns</p>\n",
              "</div><br><label><b>dtype:</b> int64</label>"
            ]
          },
          "metadata": {},
          "execution_count": 24
        }
      ]
    },
    {
      "cell_type": "markdown",
      "source": [
        "## 1.4 Separar variables numéricas y categóricas"
      ],
      "metadata": {
        "id": "zFTPwxUgLESw"
      }
    },
    {
      "cell_type": "code",
      "source": [
        "numeric_features = [\"customer.tenure\", \"account.Charges.Monthly\", \"account.Charges.Total\", \"Cuentas_Diarias\"]\n",
        "numeric_features"
      ],
      "metadata": {
        "colab": {
          "base_uri": "https://localhost:8080/"
        },
        "id": "ASX8znl_K6Bc",
        "outputId": "a20efb61-8078-43eb-852e-37e4a4f41ff7"
      },
      "execution_count": 25,
      "outputs": [
        {
          "output_type": "execute_result",
          "data": {
            "text/plain": [
              "['customer.tenure',\n",
              " 'account.Charges.Monthly',\n",
              " 'account.Charges.Total',\n",
              " 'Cuentas_Diarias']"
            ]
          },
          "metadata": {},
          "execution_count": 25
        }
      ]
    },
    {
      "cell_type": "code",
      "source": [
        "categorical_features = [c for c in X.columns if c not in numeric_features]\n",
        "categorical_features"
      ],
      "metadata": {
        "colab": {
          "base_uri": "https://localhost:8080/"
        },
        "id": "2Xk5HSegLTk1",
        "outputId": "2160ccce-133c-4add-8f4e-8bde994127cf"
      },
      "execution_count": 26,
      "outputs": [
        {
          "output_type": "execute_result",
          "data": {
            "text/plain": [
              "['customer.gender',\n",
              " 'customer.SeniorCitizen',\n",
              " 'customer.Partner',\n",
              " 'customer.Dependents',\n",
              " 'phone.PhoneService',\n",
              " 'phone.MultipleLines',\n",
              " 'internet.InternetService',\n",
              " 'internet.OnlineSecurity',\n",
              " 'internet.OnlineBackup',\n",
              " 'internet.DeviceProtection',\n",
              " 'internet.TechSupport',\n",
              " 'internet.StreamingTV',\n",
              " 'internet.StreamingMovies',\n",
              " 'account.Contract',\n",
              " 'account.PaperlessBilling',\n",
              " 'account.PaymentMethod']"
            ]
          },
          "metadata": {},
          "execution_count": 26
        }
      ]
    },
    {
      "cell_type": "markdown",
      "source": [
        "## 1.5 Construir transformador\n",
        "El siguiente paso debería ser la transformación de las variables numéricas, usando por ejemplo StandardScale, y las variables categóricas usando OneHotEncoder, pero esto se hizo en la primera parte del desafío Telecom X\n",
        "\n",
        "Ejemplo de código\n",
        "\n",
        "*** numeric_transformer = StandardScaler()\n",
        "categorical_transformer = OneHotEncoder(drop=\"first\", sparse=False) ***\n",
        "\n",
        "*** preprocessor = ColumnTransformer([\n",
        "    (\"num\", numeric_transformer, numeric_features),\n",
        "    (\"cat\", categorical_transformer, categorical_features),\n",
        "]) ***"
      ],
      "metadata": {
        "id": "hRv2iClbLY6F"
      }
    },
    {
      "cell_type": "markdown",
      "source": [
        "# 2. Análisis de Correlación y Selección de Variables"
      ],
      "metadata": {
        "id": "RIbypdtfMDxX"
      }
    },
    {
      "cell_type": "markdown",
      "source": [
        "## 2.1 Matriz de correlación de variables numéricas\n",
        "Para entender las relaciones lineales entre variables continuas y la variable objetivo Churn, calculamos la matriz de correlación."
      ],
      "metadata": {
        "id": "4cF9B0ZXTTTP"
      }
    },
    {
      "cell_type": "code",
      "source": [
        "# Selección de numéricas + objetivo\n",
        "cols_corr = numeric_features + [\"Churn\"]\n",
        "corr_matrix = df[cols_corr].corr()\n",
        "\n",
        "# Mostrar matriz\n",
        "print(corr_matrix)"
      ],
      "metadata": {
        "colab": {
          "base_uri": "https://localhost:8080/"
        },
        "id": "uAZbQXtDTuDD",
        "outputId": "ee186ee2-482c-485a-838d-22239180afd8"
      },
      "execution_count": 17,
      "outputs": [
        {
          "output_type": "stream",
          "name": "stdout",
          "text": [
            "                         customer.tenure  account.Charges.Monthly  \\\n",
            "customer.tenure                 1.000000                 0.246862   \n",
            "account.Charges.Monthly         0.246862                 1.000000   \n",
            "account.Charges.Total           0.825880                 0.651065   \n",
            "Cuentas_Diarias                 0.246862                 1.000000   \n",
            "Churn                          -0.354049                 0.192858   \n",
            "\n",
            "                         account.Charges.Total  Cuentas_Diarias     Churn  \n",
            "customer.tenure                       0.825880         0.246862 -0.354049  \n",
            "account.Charges.Monthly               0.651065         1.000000  0.192858  \n",
            "account.Charges.Total                 1.000000         0.651065 -0.199484  \n",
            "Cuentas_Diarias                       0.651065         1.000000  0.192858  \n",
            "Churn                                -0.199484         0.192858  1.000000  \n"
          ]
        }
      ]
    },
    {
      "cell_type": "markdown",
      "source": [
        "## 2.2 Heatmap para detectar colinealidad\n",
        "Visualizar la matriz con un heatmap nos permite localizar rápidamente pares de variables cuyo coeficiente |r| > 0.8."
      ],
      "metadata": {
        "id": "1mEkVRyCVIim"
      }
    },
    {
      "cell_type": "code",
      "source": [
        "plt.figure(figsize=(8, 6))\n",
        "sns.heatmap(corr_matrix, annot=True, fmt=\".2f\", cmap=\"coolwarm\", vmin=-1, vmax=1)\n",
        "plt.title(\"Heatmap de Correlaciones Numéricas\")\n",
        "plt.show()"
      ],
      "metadata": {
        "colab": {
          "base_uri": "https://localhost:8080/",
          "height": 708
        },
        "id": "Bj0R8QiiTyKo",
        "outputId": "9d2d70dd-6928-44d7-9874-e4e61cf262d0"
      },
      "execution_count": 18,
      "outputs": [
        {
          "output_type": "display_data",
          "data": {
            "text/plain": [
              "<Figure size 800x600 with 2 Axes>"
            ],
            "image/png": "[encoded data removed]"
          },
          "metadata": {}
        }
      ]
    },
    {
      "cell_type": "markdown",
      "source": [
        "Después de los resultados se debe eliminar Cuentas_Diarias porque está coalineado con Charges.Monthly, ya que deriva de esa columna.\n",
        "\n",
        "También la duración del contrato (customer.tenure) está alineada con account.Charges.Total ya que mientras más dura el contrato más es lo que se ha cobrado, así que se debe eliminar la columna Charges.Total"
      ],
      "metadata": {
        "id": "LjqxyjbqV3ui"
      }
    },
    {
      "cell_type": "code",
      "source": [
        "df_limpio = df.drop([\"Cuentas_Diarias\", \"account.Charges.Total\"], axis=1)"
      ],
      "metadata": {
        "id": "t5HaFSS4VOSH"
      },
      "execution_count": 27,
      "outputs": []
    },
    {
      "cell_type": "code",
      "source": [
        "df_limpio.info()"
      ],
      "metadata": {
        "colab": {
          "base_uri": "https://localhost:8080/"
        },
        "id": "DxkZaeOTYffT",
        "outputId": "55a3bdd5-0575-40cf-881e-25f71e9425ca"
      },
      "execution_count": 97,
      "outputs": [
        {
          "output_type": "stream",
          "name": "stdout",
          "text": [
            "<class 'pandas.core.frame.DataFrame'>\n",
            "RangeIndex: 7032 entries, 0 to 7031\n",
            "Data columns (total 18 columns):\n",
            " #   Column                     Non-Null Count  Dtype  \n",
            "---  ------                     --------------  -----  \n",
            " 0   Churn                      7032 non-null   int64  \n",
            " 1   customer.SeniorCitizen     7032 non-null   int64  \n",
            " 2   customer.Partner           7032 non-null   int64  \n",
            " 3   customer.Dependents        7032 non-null   int64  \n",
            " 4   customer.tenure            7032 non-null   float64\n",
            " 5   internet.InternetService   7032 non-null   int64  \n",
            " 6   internet.OnlineSecurity    7032 non-null   int64  \n",
            " 7   internet.OnlineBackup      7032 non-null   int64  \n",
            " 8   internet.DeviceProtection  7032 non-null   int64  \n",
            " 9   internet.TechSupport       7032 non-null   int64  \n",
            " 10  internet.StreamingTV       7032 non-null   int64  \n",
            " 11  internet.StreamingMovies   7032 non-null   int64  \n",
            " 12  account.Contract           7032 non-null   int64  \n",
            " 13  account.PaperlessBilling   7032 non-null   int64  \n",
            " 14  account.PaymentMethod      7032 non-null   int64  \n",
            " 15  account.Charges.Monthly    7032 non-null   float64\n",
            " 16  account.Charges.Total      7032 non-null   float64\n",
            " 17  Cuentas_Diarias            7032 non-null   float64\n",
            "dtypes: float64(4), int64(14)\n",
            "memory usage: 989.0 KB\n"
          ]
        }
      ]
    },
    {
      "cell_type": "code",
      "source": [
        "# Se limpia el set de variables numéricas\n",
        "numeric_features = [\"customer.tenure\", \"account.Charges.Monthly\"]\n",
        "numeric_features"
      ],
      "metadata": {
        "colab": {
          "base_uri": "https://localhost:8080/"
        },
        "id": "jfoB0dPUYpg4",
        "outputId": "621488f7-ca8c-4596-da40-f5c65609202a"
      },
      "execution_count": 29,
      "outputs": [
        {
          "output_type": "execute_result",
          "data": {
            "text/plain": [
              "['customer.tenure', 'account.Charges.Monthly']"
            ]
          },
          "metadata": {},
          "execution_count": 29
        }
      ]
    },
    {
      "cell_type": "code",
      "source": [
        "categorical_features"
      ],
      "metadata": {
        "colab": {
          "base_uri": "https://localhost:8080/"
        },
        "id": "njLKBDhy4cIh",
        "outputId": "cd14fb68-cecf-4bba-cb87-bbc5a70f651a"
      },
      "execution_count": 96,
      "outputs": [
        {
          "output_type": "execute_result",
          "data": {
            "text/plain": [
              "['customer.gender',\n",
              " 'customer.SeniorCitizen',\n",
              " 'customer.Partner',\n",
              " 'customer.Dependents',\n",
              " 'phone.PhoneService',\n",
              " 'phone.MultipleLines',\n",
              " 'internet.InternetService',\n",
              " 'internet.OnlineSecurity',\n",
              " 'internet.OnlineBackup',\n",
              " 'internet.DeviceProtection',\n",
              " 'internet.TechSupport',\n",
              " 'internet.StreamingTV',\n",
              " 'internet.StreamingMovies',\n",
              " 'account.Contract',\n",
              " 'account.PaperlessBilling',\n",
              " 'account.PaymentMethod']"
            ]
          },
          "metadata": {},
          "execution_count": 96
        }
      ]
    },
    {
      "cell_type": "markdown",
      "source": [
        "## 2.3 Análisis de variables categóricas"
      ],
      "metadata": {
        "id": "2K3SQ2vaZ3xI"
      }
    },
    {
      "cell_type": "markdown",
      "source": [
        "### 2.3.1 Prueba de chi-cuadrado\n",
        "Se realiza para cada variable categórica contra Churn y así descartar categorías con nula asociación estadística."
      ],
      "metadata": {
        "id": "ELf1LbXFaCy7"
      }
    },
    {
      "cell_type": "code",
      "source": [
        "from scipy.stats import chi2_contingency\n",
        "\n",
        "chi2_results = []\n",
        "for col in categorical_features:\n",
        "    contingency = pd.crosstab(df[col], df[\"Churn\"])\n",
        "    chi2, p, dof, _ = chi2_contingency(contingency)\n",
        "    chi2_results.append((col, chi2, p))\n",
        "\n",
        "chi2_df = pd.DataFrame(chi2_results, columns=[\"feature\", \"chi2\", \"p_value\"])\n",
        "print(chi2_df.sort_values(\"p_value\"))"
      ],
      "metadata": {
        "colab": {
          "base_uri": "https://localhost:8080/"
        },
        "id": "E-HN3Q4iZunK",
        "outputId": "13858feb-65ab-4ec3-d757-4b536d59251b"
      },
      "execution_count": 98,
      "outputs": [
        {
          "output_type": "stream",
          "name": "stdout",
          "text": [
            "                      feature         chi2        p_value\n",
            "13           account.Contract  1179.545829  7.326182e-257\n",
            "7     internet.OnlineSecurity   846.677389  1.400687e-184\n",
            "10       internet.TechSupport   824.925564  7.407808e-180\n",
            "6    internet.InternetService   728.695614  5.831199e-159\n",
            "15      account.PaymentMethod   645.429900  1.426310e-139\n",
            "8       internet.OnlineBackup   599.175185  7.776099e-131\n",
            "9   internet.DeviceProtection   555.880327  1.959389e-121\n",
            "12   internet.StreamingMovies   374.268432   5.353560e-82\n",
            "11       internet.StreamingTV   372.456502   1.324641e-81\n",
            "14   account.PaperlessBilling   256.874908   8.236203e-58\n",
            "3         customer.Dependents   186.321639   2.019659e-42\n",
            "1      customer.SeniorCitizen   158.440816   2.479256e-36\n",
            "2            customer.Partner   157.503151   3.973798e-36\n",
            "5         phone.MultipleLines    11.271541   3.567927e-03\n",
            "4          phone.PhoneService     0.873733   3.499240e-01\n",
            "0             customer.gender     0.475455   4.904885e-01\n"
          ]
        }
      ]
    },
    {
      "cell_type": "markdown",
      "source": [
        "Según resultado en el desafio anterior el género no aporta explicación para el Churn, pero si el método de pago (automático vs manual) y el tipo de contrato (largo plazo dos años es mucho menor el Churn). Basado en estos resultados y los de Chi2, se eliminarán las siguientes variables\n",
        "\n",
        "* customer.gender\n",
        "* phone.PhoneService\n",
        "* phone.MultipleLines"
      ],
      "metadata": {
        "id": "CqbHvciIhq4P"
      }
    },
    {
      "cell_type": "code",
      "source": [
        "categorical_features = ['customer.SeniorCitizen',\n",
        " 'customer.Partner',\n",
        " 'customer.Dependents',\n",
        " 'internet.InternetService',\n",
        " 'internet.OnlineSecurity',\n",
        " 'internet.OnlineBackup',\n",
        " 'internet.DeviceProtection',\n",
        " 'internet.TechSupport',\n",
        " 'internet.StreamingTV',\n",
        " 'internet.StreamingMovies',\n",
        " 'account.Contract',\n",
        " 'account.PaperlessBilling',\n",
        " 'account.PaymentMethod']\n",
        "categorical_features"
      ],
      "metadata": {
        "colab": {
          "base_uri": "https://localhost:8080/"
        },
        "id": "uDVwH7DSaQyo",
        "outputId": "d1d718c7-8b88-4935-a16e-e5c83a7a8704"
      },
      "execution_count": 99,
      "outputs": [
        {
          "output_type": "execute_result",
          "data": {
            "text/plain": [
              "['customer.SeniorCitizen',\n",
              " 'customer.Partner',\n",
              " 'customer.Dependents',\n",
              " 'internet.InternetService',\n",
              " 'internet.OnlineSecurity',\n",
              " 'internet.OnlineBackup',\n",
              " 'internet.DeviceProtection',\n",
              " 'internet.TechSupport',\n",
              " 'internet.StreamingTV',\n",
              " 'internet.StreamingMovies',\n",
              " 'account.Contract',\n",
              " 'account.PaperlessBilling',\n",
              " 'account.PaymentMethod']"
            ]
          },
          "metadata": {},
          "execution_count": 99
        }
      ]
    },
    {
      "cell_type": "code",
      "source": [
        "cat_var = categorical_features\n",
        "cat_var"
      ],
      "metadata": {
        "colab": {
          "base_uri": "https://localhost:8080/"
        },
        "id": "p6S03BFo5VhA",
        "outputId": "381cf611-cb7f-4dc3-e51c-bd170f66881a"
      },
      "execution_count": 103,
      "outputs": [
        {
          "output_type": "execute_result",
          "data": {
            "text/plain": [
              "['customer.SeniorCitizen',\n",
              " 'customer.Partner',\n",
              " 'customer.Dependents',\n",
              " 'internet.InternetService',\n",
              " 'internet.OnlineSecurity',\n",
              " 'internet.OnlineBackup',\n",
              " 'internet.DeviceProtection',\n",
              " 'internet.TechSupport',\n",
              " 'internet.StreamingTV',\n",
              " 'internet.StreamingMovies',\n",
              " 'account.Contract',\n",
              " 'account.PaperlessBilling',\n",
              " 'account.PaymentMethod']"
            ]
          },
          "metadata": {},
          "execution_count": 103
        }
      ]
    },
    {
      "cell_type": "code",
      "source": [
        "# Función para plotear distribución de churn por categoría\n",
        "def plot_churn_by_category(df_limpio, cat_var):\n",
        "    # Aplica mapeo si corresponde\n",
        "    if cat_var == 'account.Contract':\n",
        "        df_plot = df_limpio.copy()\n",
        "        df_plot[cat_var] = df_plot[cat_var].map(contract_map)\n",
        "    elif cat_var == 'account.PaymentMethod':\n",
        "        df_plot = df_limpio.copy()\n",
        "        df_plot[cat_var] = df_plot[cat_var].map(payment_map)\n",
        "    elif cat_var == 'customer.gender':\n",
        "        df_plot = df_limpio.copy()\n",
        "        df_plot[cat_var] = df_plot[cat_var].map(gender_map)\n",
        "    elif cat_var == 'Churn':\n",
        "        df_plot = df_limpio.copy()\n",
        "        df_plot[cat_var] = df_plot[cat_var].map(churn_map)\n",
        "    else:\n",
        "        df_plot = df_limpio.copy()\n",
        "\n",
        "    df_plot['Churn'] = df_plot['Churn'].map(churn_map)\n",
        "\n",
        "    plt.figure(figsize=(6,4))\n",
        "    ct = pd.crosstab(df_plot[cat_var], df_plot['Churn'], normalize='index') * 100\n",
        "    ct.plot(kind='bar',\n",
        "            stacked=True,\n",
        "            colormap='Set2',\n",
        "            edgecolor='k')\n",
        "\n",
        "    plt.title(f\"% Churn según {cat_var.replace('_',' ').title()}\")\n",
        "    plt.ylabel(\"Porcentaje de clientes\")\n",
        "    plt.xticks(rotation=90, ha='right')\n",
        "\n",
        "    for i, category in enumerate(ct.index):\n",
        "        for j, churn_label in enumerate(ct.columns):\n",
        "            pct = ct.loc[category, churn_label]\n",
        "            plt.text(\n",
        "                x = i,\n",
        "                y = ct.iloc[i, :j].sum() + pct/2,\n",
        "                s = f\"{pct:.1f}%\",\n",
        "                ha='center',\n",
        "                va='center',\n",
        "                color='white',\n",
        "                fontsize=10\n",
        "            )\n",
        "\n",
        "    plt.legend(title=\"Status de churn\", bbox_to_anchor=(1.0, 1.0))\n",
        "    plt.tight_layout()\n",
        "    plt.show()"
      ],
      "metadata": {
        "id": "sJ0fFTx4icMW"
      },
      "execution_count": 104,
      "outputs": []
    },
    {
      "cell_type": "code",
      "source": [
        "# Diccionarios de mapeo\n",
        "contract_map = {\n",
        "    0: 'Month-to-month',\n",
        "    1: 'One year',\n",
        "    2: 'Two year'\n",
        "}\n",
        "\n",
        "payment_map = {\n",
        "    0: 'Bank transfer (automatic)',\n",
        "    1: 'Credit card (automatic)',\n",
        "    2: 'Electronic check',\n",
        "    3: 'Mailed check'\n",
        "}\n",
        "\n",
        "gender_map = {\n",
        "    0: 'Female',\n",
        "    1: 'Male'\n",
        "}\n",
        "\n",
        "churn_map = {\n",
        "    0: 'Permaneció',\n",
        "    1: 'Se dio de baja'\n",
        "}"
      ],
      "metadata": {
        "id": "SCJ3qb1okPqd"
      },
      "execution_count": 105,
      "outputs": []
    },
    {
      "cell_type": "code",
      "source": [
        "for var in cat_var:\n",
        "    plot_churn_by_category(df_limpio, var)"
      ],
      "metadata": {
        "colab": {
          "base_uri": "https://localhost:8080/",
          "height": 1000
        },
        "id": "r6GGr7CCkAUA",
        "outputId": "f7b18ab6-d15b-47bb-afe1-c218da0c42c3"
      },
      "execution_count": 106,
      "outputs": [
        {
          "output_type": "display_data",
          "data": {
            "text/plain": [
              "<Figure size 600x400 with 0 Axes>"
            ]
          },
          "metadata": {}
        },
        {
          "output_type": "display_data",
          "data": {
            "text/plain": [
              "<Figure size 640x480 with 1 Axes>"
            ],
            "image/png": "[encoded data removed]"
          },
          "metadata": {}
        },
        {
          "output_type": "display_data",
          "data": {
            "text/plain": [
              "<Figure size 600x400 with 0 Axes>"
            ]
          },
          "metadata": {}
        },
        {
          "output_type": "display_data",
          "data": {
            "text/plain": [
              "<Figure size 640x480 with 1 Axes>"
            ],
            "image/png": "[encoded data removed]"
          },
          "metadata": {}
        },
        {
          "output_type": "display_data",
          "data": {
            "text/plain": [
              "<Figure size 600x400 with 0 Axes>"
            ]
          },
          "metadata": {}
        },
        {
          "output_type": "display_data",
          "data": {
            "text/plain": [
              "<Figure size 640x480 with 1 Axes>"
            ],
            "image/png": "[encoded data removed]"
          },
          "metadata": {}
        },
        {
          "output_type": "display_data",
          "data": {
            "text/plain": [
              "<Figure size 600x400 with 0 Axes>"
            ]
          },
          "metadata": {}
        },
        {
          "output_type": "display_data",
          "data": {
            "text/plain": [
              "<Figure size 640x480 with 1 Axes>"
            ],
            "image/png": "[encoded data removed]"
          },
          "metadata": {}
        },
        {
          "output_type": "display_data",
          "data": {
            "text/plain": [
              "<Figure size 600x400 with 0 Axes>"
            ]
          },
          "metadata": {}
        },
        {
          "output_type": "display_data",
          "data": {
            "text/plain": [
              "<Figure size 640x480 with 1 Axes>"
            ],
            "image/png": "[encoded data removed]"
          },
          "metadata": {}
        },
        {
          "output_type": "display_data",
          "data": {
            "text/plain": [
              "<Figure size 600x400 with 0 Axes>"
            ]
          },
          "metadata": {}
        },
        {
          "output_type": "display_data",
          "data": {
            "text/plain": [
              "<Figure size 640x480 with 1 Axes>"
            ],
            "image/png": "[encoded data removed]"
          },
          "metadata": {}
        },
        {
          "output_type": "display_data",
          "data": {
            "text/plain": [
              "<Figure size 600x400 with 0 Axes>"
            ]
          },
          "metadata": {}
        },
        {
          "output_type": "display_data",
          "data": {
            "text/plain": [
              "<Figure size 640x480 with 1 Axes>"
            ],
            "image/png": "[encoded data removed]"
          },
          "metadata": {}
        },
        {
          "output_type": "display_data",
          "data": {
            "text/plain": [
              "<Figure size 600x400 with 0 Axes>"
            ]
          },
          "metadata": {}
        },
        {
          "output_type": "display_data",
          "data": {
            "text/plain": [
              "<Figure size 640x480 with 1 Axes>"
            ],
            "image/png": "[encoded data removed]"
          },
          "metadata": {}
        },
        {
          "output_type": "display_data",
          "data": {
            "text/plain": [
              "<Figure size 600x400 with 0 Axes>"
            ]
          },
          "metadata": {}
        },
        {
          "output_type": "display_data",
          "data": {
            "text/plain": [
              "<Figure size 640x480 with 1 Axes>"
            ],
            "image/png": "[encoded data removed]"
          },
          "metadata": {}
        },
        {
          "output_type": "display_data",
          "data": {
            "text/plain": [
              "<Figure size 600x400 with 0 Axes>"
            ]
          },
          "metadata": {}
        },
        {
          "output_type": "display_data",
          "data": {
            "text/plain": [
              "<Figure size 640x480 with 1 Axes>"
            ],
            "image/png": "[encoded data removed]"
          },
          "metadata": {}
        },
        {
          "output_type": "display_data",
          "data": {
            "text/plain": [
              "<Figure size 600x400 with 0 Axes>"
            ]
          },
          "metadata": {}
        },
        {
          "output_type": "display_data",
          "data": {
            "text/plain": [
              "<Figure size 640x480 with 1 Axes>"
            ],
            "image/png": "[encoded data removed]"
          },
          "metadata": {}
        },
        {
          "output_type": "display_data",
          "data": {
            "text/plain": [
              "<Figure size 600x400 with 0 Axes>"
            ]
          },
          "metadata": {}
        },
        {
          "output_type": "display_data",
          "data": {
            "text/plain": [
              "<Figure size 640x480 with 1 Axes>"
            ],
            "image/png": "[encoded data removed]"
          },
          "metadata": {}
        },
        {
          "output_type": "display_data",
          "data": {
            "text/plain": [
              "<Figure size 600x400 with 0 Axes>"
            ]
          },
          "metadata": {}
        },
        {
          "output_type": "display_data",
          "data": {
            "text/plain": [
              "<Figure size 640x480 with 1 Axes>"
            ],
            "image/png": "[encoded data removed]"
          },
          "metadata": {}
        }
      ]
    },
    {
      "cell_type": "code",
      "source": [
        "# Eliminar variables categóricas con poco aporte a la expliacion del Churn\n",
        "df_limpio = df.drop([\"customer.gender\", \"phone.PhoneService\", \"phone.MultipleLines\"], axis=1)"
      ],
      "metadata": {
        "id": "zYcCL8ffkF1U"
      },
      "execution_count": 37,
      "outputs": []
    },
    {
      "cell_type": "code",
      "source": [
        "df_limpio.info()"
      ],
      "metadata": {
        "colab": {
          "base_uri": "https://localhost:8080/"
        },
        "id": "xUppvXTjl-Js",
        "outputId": "975d3367-0564-46b2-e196-41e4d21b347e"
      },
      "execution_count": 107,
      "outputs": [
        {
          "output_type": "stream",
          "name": "stdout",
          "text": [
            "<class 'pandas.core.frame.DataFrame'>\n",
            "RangeIndex: 7032 entries, 0 to 7031\n",
            "Data columns (total 18 columns):\n",
            " #   Column                     Non-Null Count  Dtype  \n",
            "---  ------                     --------------  -----  \n",
            " 0   Churn                      7032 non-null   int64  \n",
            " 1   customer.SeniorCitizen     7032 non-null   int64  \n",
            " 2   customer.Partner           7032 non-null   int64  \n",
            " 3   customer.Dependents        7032 non-null   int64  \n",
            " 4   customer.tenure            7032 non-null   float64\n",
            " 5   internet.InternetService   7032 non-null   int64  \n",
            " 6   internet.OnlineSecurity    7032 non-null   int64  \n",
            " 7   internet.OnlineBackup      7032 non-null   int64  \n",
            " 8   internet.DeviceProtection  7032 non-null   int64  \n",
            " 9   internet.TechSupport       7032 non-null   int64  \n",
            " 10  internet.StreamingTV       7032 non-null   int64  \n",
            " 11  internet.StreamingMovies   7032 non-null   int64  \n",
            " 12  account.Contract           7032 non-null   int64  \n",
            " 13  account.PaperlessBilling   7032 non-null   int64  \n",
            " 14  account.PaymentMethod      7032 non-null   int64  \n",
            " 15  account.Charges.Monthly    7032 non-null   float64\n",
            " 16  account.Charges.Total      7032 non-null   float64\n",
            " 17  Cuentas_Diarias            7032 non-null   float64\n",
            "dtypes: float64(4), int64(14)\n",
            "memory usage: 989.0 KB\n"
          ]
        }
      ]
    },
    {
      "cell_type": "markdown",
      "source": [
        "# 2.4 Eliminación de variables poco útiles o problemáticas"
      ],
      "metadata": {
        "id": "YXXsuc2BmwFE"
      }
    },
    {
      "cell_type": "markdown",
      "source": [
        "## 2.4.1 Umbral de varianza mínima"
      ],
      "metadata": {
        "id": "YJE5v5oHmyJg"
      }
    },
    {
      "cell_type": "code",
      "source": [
        "from sklearn.feature_selection import VarianceThreshold\n",
        "\n",
        "# Mantener columnas con varianza > 0.01 en los datos numéricos\n",
        "selector = VarianceThreshold(threshold=0.01)\n",
        "selector.fit(df_limpio[numeric_features])\n",
        "low_variance = [f for f, var in zip(numeric_features, selector.variances_) if var <= 0.01]\n",
        "print(\"Variables de baja varianza:\", low_variance)\n",
        "print(\"Variables numéricas:\", numeric_features)"
      ],
      "metadata": {
        "colab": {
          "base_uri": "https://localhost:8080/"
        },
        "id": "8So_MvQ5mBhb",
        "outputId": "28c6d540-f679-457c-9803-f946b975f58a"
      },
      "execution_count": 108,
      "outputs": [
        {
          "output_type": "stream",
          "name": "stdout",
          "text": [
            "Variables de baja varianza: []\n",
            "Variables numéricas: ['customer.tenure', 'account.Charges.Monthly']\n"
          ]
        }
      ]
    },
    {
      "cell_type": "markdown",
      "source": [
        "Se confirma la selección de variables numéricas"
      ],
      "metadata": {
        "id": "Nr4n8quNnA9M"
      }
    },
    {
      "cell_type": "code",
      "source": [
        "import statsmodels.api as sm\n",
        "from statsmodels.stats.outliers_influence import variance_inflation_factor\n",
        "\n",
        "# Construir DataFrame solo con numéricas tras drop de baja varianza\n",
        "df_vif = df_limpio[numeric_features].drop(columns=low_variance).dropna()\n",
        "\n",
        "# Agregar constante para statsmodels\n",
        "X_vif = sm.add_constant(df_vif)\n",
        "\n",
        "vif_data = []\n",
        "for i, col in enumerate(X_vif.columns):\n",
        "    vif_val = variance_inflation_factor(X_vif.values, i)\n",
        "    vif_data.append((col, vif_val))\n",
        "\n",
        "vif_df = pd.DataFrame(vif_data, columns=[\"feature\", \"VIF\"])\n",
        "print(vif_df.sort_values(\"VIF\", ascending=False))"
      ],
      "metadata": {
        "colab": {
          "base_uri": "https://localhost:8080/"
        },
        "id": "GNI27ta8m8KV",
        "outputId": "af0d5fc3-f7d5-4326-d3d3-547f9abe2491"
      },
      "execution_count": 109,
      "outputs": [
        {
          "output_type": "stream",
          "name": "stdout",
          "text": [
            "                   feature       VIF\n",
            "1          customer.tenure  1.064896\n",
            "2  account.Charges.Monthly  1.064896\n",
            "0                    const  1.000000\n"
          ]
        }
      ]
    },
    {
      "cell_type": "markdown",
      "source": [
        "No hay VIF relevante para eliminar variables numéricas. No hay VIF para multicolinealidad grave (VIF > 5)."
      ],
      "metadata": {
        "id": "UA1r_luqnpGB"
      }
    },
    {
      "cell_type": "markdown",
      "source": [
        "# 3. División de Datos"
      ],
      "metadata": {
        "id": "XJb0PMv0oD0F"
      }
    },
    {
      "cell_type": "markdown",
      "source": [
        "Se separa el conjunto de entrenamiento del de pruebas"
      ],
      "metadata": {
        "id": "FNAH7dhioJkP"
      }
    },
    {
      "cell_type": "markdown",
      "source": [
        "Se vuelve a construir el DataFrame de las variables Y, con las nuevas modificaciones"
      ],
      "metadata": {
        "id": "oGY3W6d19wvB"
      }
    },
    {
      "cell_type": "code",
      "source": [
        "X.info()"
      ],
      "metadata": {
        "colab": {
          "base_uri": "https://localhost:8080/"
        },
        "id": "ojMC1v-T94s5",
        "outputId": "4217e683-92fb-42ed-e3da-f4e0632773f4"
      },
      "execution_count": 110,
      "outputs": [
        {
          "output_type": "stream",
          "name": "stdout",
          "text": [
            "<class 'pandas.core.frame.DataFrame'>\n",
            "RangeIndex: 7032 entries, 0 to 7031\n",
            "Data columns (total 17 columns):\n",
            " #   Column                     Non-Null Count  Dtype  \n",
            "---  ------                     --------------  -----  \n",
            " 0   customer.SeniorCitizen     7032 non-null   int64  \n",
            " 1   customer.Partner           7032 non-null   int64  \n",
            " 2   customer.Dependents        7032 non-null   int64  \n",
            " 3   customer.tenure            7032 non-null   float64\n",
            " 4   internet.InternetService   7032 non-null   int64  \n",
            " 5   internet.OnlineSecurity    7032 non-null   int64  \n",
            " 6   internet.OnlineBackup      7032 non-null   int64  \n",
            " 7   internet.DeviceProtection  7032 non-null   int64  \n",
            " 8   internet.TechSupport       7032 non-null   int64  \n",
            " 9   internet.StreamingTV       7032 non-null   int64  \n",
            " 10  internet.StreamingMovies   7032 non-null   int64  \n",
            " 11  account.Contract           7032 non-null   int64  \n",
            " 12  account.PaperlessBilling   7032 non-null   int64  \n",
            " 13  account.PaymentMethod      7032 non-null   int64  \n",
            " 14  account.Charges.Monthly    7032 non-null   float64\n",
            " 15  account.Charges.Total      7032 non-null   float64\n",
            " 16  Cuentas_Diarias            7032 non-null   float64\n",
            "dtypes: float64(4), int64(13)\n",
            "memory usage: 934.1 KB\n"
          ]
        }
      ]
    },
    {
      "cell_type": "code",
      "source": [
        "X = df_limpio.drop([\"Churn\"], axis=1)\n",
        "X.info()\n",
        "y = df_limpio['Churn']\n",
        "y.info()"
      ],
      "metadata": {
        "colab": {
          "base_uri": "https://localhost:8080/"
        },
        "id": "SxMqU2pt9-Tg",
        "outputId": "11ab63ec-4806-4abd-d175-34ad22853464"
      },
      "execution_count": 111,
      "outputs": [
        {
          "output_type": "stream",
          "name": "stdout",
          "text": [
            "<class 'pandas.core.frame.DataFrame'>\n",
            "RangeIndex: 7032 entries, 0 to 7031\n",
            "Data columns (total 17 columns):\n",
            " #   Column                     Non-Null Count  Dtype  \n",
            "---  ------                     --------------  -----  \n",
            " 0   customer.SeniorCitizen     7032 non-null   int64  \n",
            " 1   customer.Partner           7032 non-null   int64  \n",
            " 2   customer.Dependents        7032 non-null   int64  \n",
            " 3   customer.tenure            7032 non-null   float64\n",
            " 4   internet.InternetService   7032 non-null   int64  \n",
            " 5   internet.OnlineSecurity    7032 non-null   int64  \n",
            " 6   internet.OnlineBackup      7032 non-null   int64  \n",
            " 7   internet.DeviceProtection  7032 non-null   int64  \n",
            " 8   internet.TechSupport       7032 non-null   int64  \n",
            " 9   internet.StreamingTV       7032 non-null   int64  \n",
            " 10  internet.StreamingMovies   7032 non-null   int64  \n",
            " 11  account.Contract           7032 non-null   int64  \n",
            " 12  account.PaperlessBilling   7032 non-null   int64  \n",
            " 13  account.PaymentMethod      7032 non-null   int64  \n",
            " 14  account.Charges.Monthly    7032 non-null   float64\n",
            " 15  account.Charges.Total      7032 non-null   float64\n",
            " 16  Cuentas_Diarias            7032 non-null   float64\n",
            "dtypes: float64(4), int64(13)\n",
            "memory usage: 934.1 KB\n",
            "<class 'pandas.core.series.Series'>\n",
            "RangeIndex: 7032 entries, 0 to 7031\n",
            "Series name: Churn\n",
            "Non-Null Count  Dtype\n",
            "--------------  -----\n",
            "7032 non-null   int64\n",
            "dtypes: int64(1)\n",
            "memory usage: 55.1 KB\n"
          ]
        }
      ]
    },
    {
      "cell_type": "markdown",
      "source": [
        "Creo los conjuntos de prueba y entrenamiento, pero primero reviso el imbalance de la columna Churn"
      ],
      "metadata": {
        "id": "JbHg_JB4-Jdj"
      }
    },
    {
      "cell_type": "code",
      "source": [
        "import pandas as pd\n",
        "\n",
        "# Suponiendo que ya cargaste tu DataFrame como df\n",
        "# Conteo de cada clase\n",
        "churn_counts = df_limpio[\"Churn\"].value_counts()\n",
        "# Proporciones de cada clase\n",
        "churn_props = df_limpio[\"Churn\"].value_counts(normalize=True)\n",
        "\n",
        "print(\"Conteos:\\n\", churn_counts)\n",
        "print(\"\\nProporciones:\\n\", churn_props)\n"
      ],
      "metadata": {
        "colab": {
          "base_uri": "https://localhost:8080/"
        },
        "id": "HYKsDVjGAsqu",
        "outputId": "1e6c5922-ea5d-42b8-9442-9dcefb9a114d"
      },
      "execution_count": 112,
      "outputs": [
        {
          "output_type": "stream",
          "name": "stdout",
          "text": [
            "Conteos:\n",
            " Churn\n",
            "0    5163\n",
            "1    1869\n",
            "Name: count, dtype: int64\n",
            "\n",
            "Proporciones:\n",
            " Churn\n",
            "0    0.734215\n",
            "1    0.265785\n",
            "Name: proportion, dtype: float64\n"
          ]
        }
      ]
    },
    {
      "cell_type": "markdown",
      "source": [
        "Para corregir este imbalance usaré un oversampling de la variable 1 (abandona el contrato)"
      ],
      "metadata": {
        "id": "-4E2IiA1CZdM"
      }
    },
    {
      "cell_type": "code",
      "source": [
        "# Se instala la biblioteca necesaria para aplicar el método\n",
        "# pip install imbalanced-learn scikit-learn"
      ],
      "metadata": {
        "colab": {
          "base_uri": "https://localhost:8080/"
        },
        "id": "B2q5226mCvEY",
        "outputId": "73d14c39-0596-4fa2-bf3d-987993d8da26"
      },
      "execution_count": 50,
      "outputs": [
        {
          "output_type": "stream",
          "name": "stdout",
          "text": [
            "Requirement already satisfied: imbalanced-learn in /usr/local/lib/python3.11/dist-packages (0.13.0)\n",
            "Requirement already satisfied: scikit-learn in /usr/local/lib/python3.11/dist-packages (1.6.1)\n",
            "Requirement already satisfied: numpy<3,>=1.24.3 in /usr/local/lib/python3.11/dist-packages (from imbalanced-learn) (2.0.2)\n",
            "Requirement already satisfied: scipy<2,>=1.10.1 in /usr/local/lib/python3.11/dist-packages (from imbalanced-learn) (1.16.1)\n",
            "Requirement already satisfied: sklearn-compat<1,>=0.1 in /usr/local/lib/python3.11/dist-packages (from imbalanced-learn) (0.1.3)\n",
            "Requirement already satisfied: joblib<2,>=1.1.1 in /usr/local/lib/python3.11/dist-packages (from imbalanced-learn) (1.5.1)\n",
            "Requirement already satisfied: threadpoolctl<4,>=2.0.0 in /usr/local/lib/python3.11/dist-packages (from imbalanced-learn) (3.6.0)\n"
          ]
        }
      ]
    },
    {
      "cell_type": "markdown",
      "source": [
        "Se cargan en el cuaderno"
      ],
      "metadata": {
        "id": "4lNcDiDoDhUu"
      }
    },
    {
      "cell_type": "code",
      "source": [
        "from imblearn.over_sampling import RandomOverSampler, SMOTE\n",
        "from collections import Counter"
      ],
      "metadata": {
        "id": "jM45AcMrDYQZ"
      },
      "execution_count": 113,
      "outputs": []
    },
    {
      "cell_type": "markdown",
      "source": [
        "Divide en conjuntos de entrenamiento y prueba manteniendo la proporción inicial."
      ],
      "metadata": {
        "id": "Wcu2oAFNIjad"
      }
    },
    {
      "cell_type": "code",
      "source": [
        "# Split estratificado para conservar proporciones antes del oversampling\n",
        "X_train, X_test, y_train, y_test = train_test_split(\n",
        "    X, y,\n",
        "    test_size=0.3,\n",
        "    random_state=42,\n",
        "    stratify=y\n",
        ")\n",
        "\n",
        "print(\"Distribución antes de oversampling:\", Counter(y_train))"
      ],
      "metadata": {
        "colab": {
          "base_uri": "https://localhost:8080/"
        },
        "id": "Iixg27xDnad0",
        "outputId": "cc3bf3ce-936f-4de5-b55b-dd0a9ae45332"
      },
      "execution_count": 114,
      "outputs": [
        {
          "output_type": "stream",
          "name": "stdout",
          "text": [
            "Distribución antes de oversampling: Counter({0: 3614, 1: 1308})\n"
          ]
        }
      ]
    },
    {
      "cell_type": "markdown",
      "source": [
        "Aplicar Oversampling con RandomOverSampler. Para duplicar ejemplos de la clase minoritaria hasta igualar la mayoritaria."
      ],
      "metadata": {
        "id": "WqP16LaIJsTV"
      }
    },
    {
      "cell_type": "code",
      "source": [
        "ros = RandomOverSampler(random_state=42)\n",
        "X_res, y_res = ros.fit_resample(X_train, y_train)\n",
        "\n",
        "print(\"Distribución tras RandomOverSampler:\", Counter(y_res))"
      ],
      "metadata": {
        "colab": {
          "base_uri": "https://localhost:8080/"
        },
        "id": "CjwQoaY5J2bo",
        "outputId": "d38bf8c9-ce24-47c3-c81e-8cad9c4b4733"
      },
      "execution_count": 115,
      "outputs": [
        {
          "output_type": "stream",
          "name": "stdout",
          "text": [
            "Distribución tras RandomOverSampler: Counter({1: 3614, 0: 3614})\n"
          ]
        }
      ]
    },
    {
      "cell_type": "markdown",
      "source": [
        "Aplicar Oversampling con SMOTE (Synthetic Minority Over-sampling Technique), para generar ejemplos sintéticos interpolando vecinos."
      ],
      "metadata": {
        "id": "wXfn7TUVKWmG"
      }
    },
    {
      "cell_type": "code",
      "source": [
        "smote = SMOTE(random_state=42, k_neighbors=5)\n",
        "X_sm, y_sm = smote.fit_resample(X_train, y_train)\n",
        "\n",
        "print(\"Distribución tras SMOTE:\", Counter(y_sm))"
      ],
      "metadata": {
        "colab": {
          "base_uri": "https://localhost:8080/"
        },
        "id": "etji_FJDKV4D",
        "outputId": "7d0d06f2-4faa-48d1-d12b-63c6183787b5"
      },
      "execution_count": 116,
      "outputs": [
        {
          "output_type": "stream",
          "name": "stdout",
          "text": [
            "Distribución tras SMOTE: Counter({1: 3614, 0: 3614})\n"
          ]
        }
      ]
    },
    {
      "cell_type": "markdown",
      "source": [
        "# 4. Entrenamiento de Modelos de Clasificación"
      ],
      "metadata": {
        "id": "8P6_bPml-Q_N"
      }
    },
    {
      "cell_type": "markdown",
      "source": [
        "## 4.1 Regresión Logística"
      ],
      "metadata": {
        "id": "ZAsJY3TI-S6G"
      }
    },
    {
      "cell_type": "code",
      "source": [
        "from sklearn.linear_model import LogisticRegression\n",
        "from sklearn.metrics import classification_report, confusion_matrix\n",
        "\n",
        "model = LogisticRegression(random_state=42, class_weight=None)\n",
        "model.fit(X_sm, y_sm)\n",
        "\n",
        "y_pred = model.predict(X_test)\n",
        "print(classification_report(y_test, y_pred))\n",
        "print(confusion_matrix(y_test, y_pred))"
      ],
      "metadata": {
        "colab": {
          "base_uri": "https://localhost:8080/"
        },
        "id": "FF7mY3w9wtDs",
        "outputId": "e0d8d557-03a2-4c1e-f1a8-cc9a13098b35"
      },
      "execution_count": 117,
      "outputs": [
        {
          "output_type": "stream",
          "name": "stdout",
          "text": [
            "              precision    recall  f1-score   support\n",
            "\n",
            "           0       0.91      0.71      0.80      1549\n",
            "           1       0.50      0.81      0.62       561\n",
            "\n",
            "    accuracy                           0.73      2110\n",
            "   macro avg       0.71      0.76      0.71      2110\n",
            "weighted avg       0.80      0.73      0.75      2110\n",
            "\n",
            "[[1098  451]\n",
            " [ 109  452]]\n"
          ]
        }
      ]
    },
    {
      "cell_type": "markdown",
      "source": [
        "## 4.2 Random Forest"
      ],
      "metadata": {
        "id": "OFNwL0vEhbcy"
      }
    },
    {
      "cell_type": "code",
      "source": [
        "from sklearn.ensemble import RandomForestClassifier\n",
        "from sklearn.metrics import classification_report, confusion_matrix\n",
        "\n",
        "# Instanciar el Random Forest\n",
        "rf = RandomForestClassifier(\n",
        "    n_estimators=100,          # número de árboles\n",
        "    max_depth=None,            # profundidad máxima de cada árbol\n",
        "    min_samples_split=2,       # min. muestras para dividir un nodo\n",
        "    min_samples_leaf=1,        # min. muestras en cada hoja\n",
        "    class_weight='balanced',   # ajustar pesos según desbalance\n",
        "    random_state=42            # reproducibilidad\n",
        ")\n",
        "\n",
        "# Entrenar con los datos balanceados y escalados\n",
        "rf.fit(X_sm, y_sm)"
      ],
      "metadata": {
        "colab": {
          "base_uri": "https://localhost:8080/",
          "height": 80
        },
        "id": "yTpyVedseZLT",
        "outputId": "bd0ff0fa-7640-49c6-dc4f-dc7ad6a61b19"
      },
      "execution_count": 118,
      "outputs": [
        {
          "output_type": "execute_result",
          "data": {
            "text/plain": [
              "RandomForestClassifier(class_weight='balanced', random_state=42)"
            ],
            "text/html": [
              "<style>#sk-container-id-3 {\n",
              "  /* Definition of color scheme common for light and dark mode */\n",
              "  --sklearn-color-text: #000;\n",
              "  --sklearn-color-text-muted: #666;\n",
              "  --sklearn-color-line: gray;\n",
              "  /* Definition of color scheme for unfitted estimators */\n",
              "  --sklearn-color-unfitted-level-0: #fff5e6;\n",
              "  --sklearn-color-unfitted-level-1: #f6e4d2;\n",
              "  --sklearn-color-unfitted-level-2: #ffe0b3;\n",
              "  --sklearn-color-unfitted-level-3: chocolate;\n",
              "  /* Definition of color scheme for fitted estimators */\n",
              "  --sklearn-color-fitted-level-0: #f0f8ff;\n",
              "  --sklearn-color-fitted-level-1: #d4ebff;\n",
              "  --sklearn-color-fitted-level-2: #b3dbfd;\n",
              "  --sklearn-color-fitted-level-3: cornflowerblue;\n",
              "\n",
              "  /* Specific color for light theme */\n",
              "  --sklearn-color-text-on-default-background: var(--sg-text-color, var(--theme-code-foreground, var(--jp-content-font-color1, black)));\n",
              "  --sklearn-color-background: var(--sg-background-color, var(--theme-background, var(--jp-layout-color0, white)));\n",
              "  --sklearn-color-border-box: var(--sg-text-color, var(--theme-code-foreground, var(--jp-content-font-color1, black)));\n",
              "  --sklearn-color-icon: #696969;\n",
              "\n",
              "  @media (prefers-color-scheme: dark) {\n",
              "    /* Redefinition of color scheme for dark theme */\n",
              "    --sklearn-color-text-on-default-background: var(--sg-text-color, var(--theme-code-foreground, var(--jp-content-font-color1, white)));\n",
              "    --sklearn-color-background: var(--sg-background-color, var(--theme-background, var(--jp-layout-color0, #111)));\n",
              "    --sklearn-color-border-box: var(--sg-text-color, var(--theme-code-foreground, var(--jp-content-font-color1, white)));\n",
              "    --sklearn-color-icon: #878787;\n",
              "  }\n",
              "}\n",
              "\n",
              "#sk-container-id-3 {\n",
              "  color: var(--sklearn-color-text);\n",
              "}\n",
              "\n",
              "#sk-container-id-3 pre {\n",
              "  padding: 0;\n",
              "}\n",
              "\n",
              "#sk-container-id-3 input.sk-hidden--visually {\n",
              "  border: 0;\n",
              "  clip: rect(1px 1px 1px 1px);\n",
              "  clip: rect(1px, 1px, 1px, 1px);\n",
              "  height: 1px;\n",
              "  margin: -1px;\n",
              "  overflow: hidden;\n",
              "  padding: 0;\n",
              "  position: absolute;\n",
              "  width: 1px;\n",
              "}\n",
              "\n",
              "#sk-container-id-3 div.sk-dashed-wrapped {\n",
              "  border: 1px dashed var(--sklearn-color-line);\n",
              "  margin: 0 0.4em 0.5em 0.4em;\n",
              "  box-sizing: border-box;\n",
              "  padding-bottom: 0.4em;\n",
              "  background-color: var(--sklearn-color-background);\n",
              "}\n",
              "\n",
              "#sk-container-id-3 div.sk-container {\n",
              "  /* jupyter's `normalize.less` sets `[hidden] { display: none; }`\n",
              "     but bootstrap.min.css set `[hidden] { display: none !important; }`\n",
              "     so we also need the `!important` here to be able to override the\n",
              "     default hidden behavior on the sphinx rendered scikit-learn.org.\n",
              "     See: https://github.com/scikit-learn/scikit-learn/issues/21755 */\n",
              "  display: inline-block !important;\n",
              "  position: relative;\n",
              "}\n",
              "\n",
              "#sk-container-id-3 div.sk-text-repr-fallback {\n",
              "  display: none;\n",
              "}\n",
              "\n",
              "div.sk-parallel-item,\n",
              "div.sk-serial,\n",
              "div.sk-item {\n",
              "  /* draw centered vertical line to link estimators */\n",
              "  background-image: linear-gradient(var(--sklearn-color-text-on-default-background), var(--sklearn-color-text-on-default-background));\n",
              "  background-size: 2px 100%;\n",
              "  background-repeat: no-repeat;\n",
              "  background-position: center center;\n",
              "}\n",
              "\n",
              "/* Parallel-specific style estimator block */\n",
              "\n",
              "#sk-container-id-3 div.sk-parallel-item::after {\n",
              "  content: \"\";\n",
              "  width: 100%;\n",
              "  border-bottom: 2px solid var(--sklearn-color-text-on-default-background);\n",
              "  flex-grow: 1;\n",
              "}\n",
              "\n",
              "#sk-container-id-3 div.sk-parallel {\n",
              "  display: flex;\n",
              "  align-items: stretch;\n",
              "  justify-content: center;\n",
              "  background-color: var(--sklearn-color-background);\n",
              "  position: relative;\n",
              "}\n",
              "\n",
              "#sk-container-id-3 div.sk-parallel-item {\n",
              "  display: flex;\n",
              "  flex-direction: column;\n",
              "}\n",
              "\n",
              "#sk-container-id-3 div.sk-parallel-item:first-child::after {\n",
              "  align-self: flex-end;\n",
              "  width: 50%;\n",
              "}\n",
              "\n",
              "#sk-container-id-3 div.sk-parallel-item:last-child::after {\n",
              "  align-self: flex-start;\n",
              "  width: 50%;\n",
              "}\n",
              "\n",
              "#sk-container-id-3 div.sk-parallel-item:only-child::after {\n",
              "  width: 0;\n",
              "}\n",
              "\n",
              "/* Serial-specific style estimator block */\n",
              "\n",
              "#sk-container-id-3 div.sk-serial {\n",
              "  display: flex;\n",
              "  flex-direction: column;\n",
              "  align-items: center;\n",
              "  background-color: var(--sklearn-color-background);\n",
              "  padding-right: 1em;\n",
              "  padding-left: 1em;\n",
              "}\n",
              "\n",
              "\n",
              "/* Toggleable style: style used for estimator/Pipeline/ColumnTransformer box that is\n",
              "clickable and can be expanded/collapsed.\n",
              "- Pipeline and ColumnTransformer use this feature and define the default style\n",
              "- Estimators will overwrite some part of the style using the `sk-estimator` class\n",
              "*/\n",
              "\n",
              "/* Pipeline and ColumnTransformer style (default) */\n",
              "\n",
              "#sk-container-id-3 div.sk-toggleable {\n",
              "  /* Default theme specific background. It is overwritten whether we have a\n",
              "  specific estimator or a Pipeline/ColumnTransformer */\n",
              "  background-color: var(--sklearn-color-background);\n",
              "}\n",
              "\n",
              "/* Toggleable label */\n",
              "#sk-container-id-3 label.sk-toggleable__label {\n",
              "  cursor: pointer;\n",
              "  display: flex;\n",
              "  width: 100%;\n",
              "  margin-bottom: 0;\n",
              "  padding: 0.5em;\n",
              "  box-sizing: border-box;\n",
              "  text-align: center;\n",
              "  align-items: start;\n",
              "  justify-content: space-between;\n",
              "  gap: 0.5em;\n",
              "}\n",
              "\n",
              "#sk-container-id-3 label.sk-toggleable__label .caption {\n",
              "  font-size: 0.6rem;\n",
              "  font-weight: lighter;\n",
              "  color: var(--sklearn-color-text-muted);\n",
              "}\n",
              "\n",
              "#sk-container-id-3 label.sk-toggleable__label-arrow:before {\n",
              "  /* Arrow on the left of the label */\n",
              "  content: \"▸\";\n",
              "  float: left;\n",
              "  margin-right: 0.25em;\n",
              "  color: var(--sklearn-color-icon);\n",
              "}\n",
              "\n",
              "#sk-container-id-3 label.sk-toggleable__label-arrow:hover:before {\n",
              "  color: var(--sklearn-color-text);\n",
              "}\n",
              "\n",
              "/* Toggleable content - dropdown */\n",
              "\n",
              "#sk-container-id-3 div.sk-toggleable__content {\n",
              "  max-height: 0;\n",
              "  max-width: 0;\n",
              "  overflow: hidden;\n",
              "  text-align: left;\n",
              "  /* unfitted */\n",
              "  background-color: var(--sklearn-color-unfitted-level-0);\n",
              "}\n",
              "\n",
              "#sk-container-id-3 div.sk-toggleable__content.fitted {\n",
              "  /* fitted */\n",
              "  background-color: var(--sklearn-color-fitted-level-0);\n",
              "}\n",
              "\n",
              "#sk-container-id-3 div.sk-toggleable__content pre {\n",
              "  margin: 0.2em;\n",
              "  border-radius: 0.25em;\n",
              "  color: var(--sklearn-color-text);\n",
              "  /* unfitted */\n",
              "  background-color: var(--sklearn-color-unfitted-level-0);\n",
              "}\n",
              "\n",
              "#sk-container-id-3 div.sk-toggleable__content.fitted pre {\n",
              "  /* unfitted */\n",
              "  background-color: var(--sklearn-color-fitted-level-0);\n",
              "}\n",
              "\n",
              "#sk-container-id-3 input.sk-toggleable__control:checked~div.sk-toggleable__content {\n",
              "  /* Expand drop-down */\n",
              "  max-height: 200px;\n",
              "  max-width: 100%;\n",
              "  overflow: auto;\n",
              "}\n",
              "\n",
              "#sk-container-id-3 input.sk-toggleable__control:checked~label.sk-toggleable__label-arrow:before {\n",
              "  content: \"▾\";\n",
              "}\n",
              "\n",
              "/* Pipeline/ColumnTransformer-specific style */\n",
              "\n",
              "#sk-container-id-3 div.sk-label input.sk-toggleable__control:checked~label.sk-toggleable__label {\n",
              "  color: var(--sklearn-color-text);\n",
              "  background-color: var(--sklearn-color-unfitted-level-2);\n",
              "}\n",
              "\n",
              "#sk-container-id-3 div.sk-label.fitted input.sk-toggleable__control:checked~label.sk-toggleable__label {\n",
              "  background-color: var(--sklearn-color-fitted-level-2);\n",
              "}\n",
              "\n",
              "/* Estimator-specific style */\n",
              "\n",
              "/* Colorize estimator box */\n",
              "#sk-container-id-3 div.sk-estimator input.sk-toggleable__control:checked~label.sk-toggleable__label {\n",
              "  /* unfitted */\n",
              "  background-color: var(--sklearn-color-unfitted-level-2);\n",
              "}\n",
              "\n",
              "#sk-container-id-3 div.sk-estimator.fitted input.sk-toggleable__control:checked~label.sk-toggleable__label {\n",
              "  /* fitted */\n",
              "  background-color: var(--sklearn-color-fitted-level-2);\n",
              "}\n",
              "\n",
              "#sk-container-id-3 div.sk-label label.sk-toggleable__label,\n",
              "#sk-container-id-3 div.sk-label label {\n",
              "  /* The background is the default theme color */\n",
              "  color: var(--sklearn-color-text-on-default-background);\n",
              "}\n",
              "\n",
              "/* On hover, darken the color of the background */\n",
              "#sk-container-id-3 div.sk-label:hover label.sk-toggleable__label {\n",
              "  color: var(--sklearn-color-text);\n",
              "  background-color: var(--sklearn-color-unfitted-level-2);\n",
              "}\n",
              "\n",
              "/* Label box, darken color on hover, fitted */\n",
              "#sk-container-id-3 div.sk-label.fitted:hover label.sk-toggleable__label.fitted {\n",
              "  color: var(--sklearn-color-text);\n",
              "  background-color: var(--sklearn-color-fitted-level-2);\n",
              "}\n",
              "\n",
              "/* Estimator label */\n",
              "\n",
              "#sk-container-id-3 div.sk-label label {\n",
              "  font-family: monospace;\n",
              "  font-weight: bold;\n",
              "  display: inline-block;\n",
              "  line-height: 1.2em;\n",
              "}\n",
              "\n",
              "#sk-container-id-3 div.sk-label-container {\n",
              "  text-align: center;\n",
              "}\n",
              "\n",
              "/* Estimator-specific */\n",
              "#sk-container-id-3 div.sk-estimator {\n",
              "  font-family: monospace;\n",
              "  border: 1px dotted var(--sklearn-color-border-box);\n",
              "  border-radius: 0.25em;\n",
              "  box-sizing: border-box;\n",
              "  margin-bottom: 0.5em;\n",
              "  /* unfitted */\n",
              "  background-color: var(--sklearn-color-unfitted-level-0);\n",
              "}\n",
              "\n",
              "#sk-container-id-3 div.sk-estimator.fitted {\n",
              "  /* fitted */\n",
              "  background-color: var(--sklearn-color-fitted-level-0);\n",
              "}\n",
              "\n",
              "/* on hover */\n",
              "#sk-container-id-3 div.sk-estimator:hover {\n",
              "  /* unfitted */\n",
              "  background-color: var(--sklearn-color-unfitted-level-2);\n",
              "}\n",
              "\n",
              "#sk-container-id-3 div.sk-estimator.fitted:hover {\n",
              "  /* fitted */\n",
              "  background-color: var(--sklearn-color-fitted-level-2);\n",
              "}\n",
              "\n",
              "/* Specification for estimator info (e.g. \"i\" and \"?\") */\n",
              "\n",
              "/* Common style for \"i\" and \"?\" */\n",
              "\n",
              ".sk-estimator-doc-link,\n",
              "a:link.sk-estimator-doc-link,\n",
              "a:visited.sk-estimator-doc-link {\n",
              "  float: right;\n",
              "  font-size: smaller;\n",
              "  line-height: 1em;\n",
              "  font-family: monospace;\n",
              "  background-color: var(--sklearn-color-background);\n",
              "  border-radius: 1em;\n",
              "  height: 1em;\n",
              "  width: 1em;\n",
              "  text-decoration: none !important;\n",
              "  margin-left: 0.5em;\n",
              "  text-align: center;\n",
              "  /* unfitted */\n",
              "  border: var(--sklearn-color-unfitted-level-1) 1pt solid;\n",
              "  color: var(--sklearn-color-unfitted-level-1);\n",
              "}\n",
              "\n",
              ".sk-estimator-doc-link.fitted,\n",
              "a:link.sk-estimator-doc-link.fitted,\n",
              "a:visited.sk-estimator-doc-link.fitted {\n",
              "  /* fitted */\n",
              "  border: var(--sklearn-color-fitted-level-1) 1pt solid;\n",
              "  color: var(--sklearn-color-fitted-level-1);\n",
              "}\n",
              "\n",
              "/* On hover */\n",
              "div.sk-estimator:hover .sk-estimator-doc-link:hover,\n",
              ".sk-estimator-doc-link:hover,\n",
              "div.sk-label-container:hover .sk-estimator-doc-link:hover,\n",
              ".sk-estimator-doc-link:hover {\n",
              "  /* unfitted */\n",
              "  background-color: var(--sklearn-color-unfitted-level-3);\n",
              "  color: var(--sklearn-color-background);\n",
              "  text-decoration: none;\n",
              "}\n",
              "\n",
              "div.sk-estimator.fitted:hover .sk-estimator-doc-link.fitted:hover,\n",
              ".sk-estimator-doc-link.fitted:hover,\n",
              "div.sk-label-container:hover .sk-estimator-doc-link.fitted:hover,\n",
              ".sk-estimator-doc-link.fitted:hover {\n",
              "  /* fitted */\n",
              "  background-color: var(--sklearn-color-fitted-level-3);\n",
              "  color: var(--sklearn-color-background);\n",
              "  text-decoration: none;\n",
              "}\n",
              "\n",
              "/* Span, style for the box shown on hovering the info icon */\n",
              ".sk-estimator-doc-link span {\n",
              "  display: none;\n",
              "  z-index: 9999;\n",
              "  position: relative;\n",
              "  font-weight: normal;\n",
              "  right: .2ex;\n",
              "  padding: .5ex;\n",
              "  margin: .5ex;\n",
              "  width: min-content;\n",
              "  min-width: 20ex;\n",
              "  max-width: 50ex;\n",
              "  color: var(--sklearn-color-text);\n",
              "  box-shadow: 2pt 2pt 4pt #999;\n",
              "  /* unfitted */\n",
              "  background: var(--sklearn-color-unfitted-level-0);\n",
              "  border: .5pt solid var(--sklearn-color-unfitted-level-3);\n",
              "}\n",
              "\n",
              ".sk-estimator-doc-link.fitted span {\n",
              "  /* fitted */\n",
              "  background: var(--sklearn-color-fitted-level-0);\n",
              "  border: var(--sklearn-color-fitted-level-3);\n",
              "}\n",
              "\n",
              ".sk-estimator-doc-link:hover span {\n",
              "  display: block;\n",
              "}\n",
              "\n",
              "/* \"?\"-specific style due to the `<a>` HTML tag */\n",
              "\n",
              "#sk-container-id-3 a.estimator_doc_link {\n",
              "  float: right;\n",
              "  font-size: 1rem;\n",
              "  line-height: 1em;\n",
              "  font-family: monospace;\n",
              "  background-color: var(--sklearn-color-background);\n",
              "  border-radius: 1rem;\n",
              "  height: 1rem;\n",
              "  width: 1rem;\n",
              "  text-decoration: none;\n",
              "  /* unfitted */\n",
              "  color: var(--sklearn-color-unfitted-level-1);\n",
              "  border: var(--sklearn-color-unfitted-level-1) 1pt solid;\n",
              "}\n",
              "\n",
              "#sk-container-id-3 a.estimator_doc_link.fitted {\n",
              "  /* fitted */\n",
              "  border: var(--sklearn-color-fitted-level-1) 1pt solid;\n",
              "  color: var(--sklearn-color-fitted-level-1);\n",
              "}\n",
              "\n",
              "/* On hover */\n",
              "#sk-container-id-3 a.estimator_doc_link:hover {\n",
              "  /* unfitted */\n",
              "  background-color: var(--sklearn-color-unfitted-level-3);\n",
              "  color: var(--sklearn-color-background);\n",
              "  text-decoration: none;\n",
              "}\n",
              "\n",
              "#sk-container-id-3 a.estimator_doc_link.fitted:hover {\n",
              "  /* fitted */\n",
              "  background-color: var(--sklearn-color-fitted-level-3);\n",
              "}\n",
              "</style><div id=\"sk-container-id-3\" class=\"sk-top-container\"><div class=\"sk-text-repr-fallback\"><pre>RandomForestClassifier(class_weight=&#x27;balanced&#x27;, random_state=42)</pre><b>In a Jupyter environment, please rerun this cell to show the HTML representation or trust the notebook. <br />On GitHub, the HTML representation is unable to render, please try loading this page with nbviewer.org.</b></div><div class=\"sk-container\" hidden><div class=\"sk-item\"><div class=\"sk-estimator fitted sk-toggleable\"><input class=\"sk-toggleable__control sk-hidden--visually\" id=\"sk-estimator-id-3\" type=\"checkbox\" checked><label for=\"sk-estimator-id-3\" class=\"sk-toggleable__label fitted sk-toggleable__label-arrow\"><div><div>RandomForestClassifier</div></div><div><a class=\"sk-estimator-doc-link fitted\" rel=\"noreferrer\" target=\"_blank\" href=\"https://scikit-learn.org/1.6/modules/generated/sklearn.ensemble.RandomForestClassifier.html\">?<span>Documentation for RandomForestClassifier</span></a><span class=\"sk-estimator-doc-link fitted\">i<span>Fitted</span></span></div></label><div class=\"sk-toggleable__content fitted\"><pre>RandomForestClassifier(class_weight=&#x27;balanced&#x27;, random_state=42)</pre></div> </div></div></div></div>"
            ]
          },
          "metadata": {},
          "execution_count": 118
        }
      ]
    },
    {
      "cell_type": "markdown",
      "source": [
        "Predicción y métricas de evaluación"
      ],
      "metadata": {
        "id": "m5SRzu98hvcR"
      }
    },
    {
      "cell_type": "code",
      "source": [
        "# Predecir sobre el set de test\n",
        "y_pred = rf.predict(X_test)\n",
        "\n",
        "# Métricas de clasificación\n",
        "print(classification_report(y_test, y_pred))\n",
        "\n",
        "# Matriz de confusión\n",
        "print(confusion_matrix(y_test, y_pred))"
      ],
      "metadata": {
        "colab": {
          "base_uri": "https://localhost:8080/"
        },
        "id": "1sxJ2kWxhzUs",
        "outputId": "65fdea8c-52df-460c-fe64-293953d61e84"
      },
      "execution_count": 119,
      "outputs": [
        {
          "output_type": "stream",
          "name": "stdout",
          "text": [
            "              precision    recall  f1-score   support\n",
            "\n",
            "           0       0.87      0.81      0.84      1549\n",
            "           1       0.56      0.65      0.60       561\n",
            "\n",
            "    accuracy                           0.77      2110\n",
            "   macro avg       0.71      0.73      0.72      2110\n",
            "weighted avg       0.78      0.77      0.77      2110\n",
            "\n",
            "[[1257  292]\n",
            " [ 196  365]]\n"
          ]
        }
      ]
    },
    {
      "cell_type": "code",
      "source": [
        "from sklearn.model_selection import GridSearchCV\n",
        "\n",
        "param_grid = {\n",
        "    'n_estimators': [100, 200],\n",
        "    'max_depth': [None, 10, 20],\n",
        "    'min_samples_leaf': [1, 5],\n",
        "    'class_weight': ['balanced', None]\n",
        "}\n",
        "\n",
        "grid_rf = GridSearchCV(\n",
        "    estimator=rf,\n",
        "    param_grid=param_grid,\n",
        "    scoring='f1',              # o 'roc_auc' según objetivo\n",
        "    cv=5,\n",
        "    n_jobs=-1,\n",
        "    verbose=1\n",
        ")\n",
        "\n",
        "grid_rf.fit(X_sm, y_sm)\n",
        "print(\"Mejores parámetros:\", grid_rf.best_params_)\n",
        "print(\"Mejor f1 en validación:\", grid_rf.best_score_)"
      ],
      "metadata": {
        "colab": {
          "base_uri": "https://localhost:8080/"
        },
        "id": "y-5Xjr1Ph8kD",
        "outputId": "642d8dff-90dc-4f3c-cf83-6b9c5e5bdb02"
      },
      "execution_count": 120,
      "outputs": [
        {
          "output_type": "stream",
          "name": "stdout",
          "text": [
            "Fitting 5 folds for each of 24 candidates, totalling 120 fits\n",
            "Mejores parámetros: {'class_weight': None, 'max_depth': 20, 'min_samples_leaf': 1, 'n_estimators': 200}\n",
            "Mejor f1 en validación: 0.8376955635992456\n"
          ]
        }
      ]
    },
    {
      "cell_type": "markdown",
      "source": [
        "Configuración del modelo con los hiperparámetros óptimos"
      ],
      "metadata": {
        "id": "AGN6hWRxof2H"
      }
    },
    {
      "cell_type": "code",
      "source": [
        "from sklearn.ensemble import RandomForestClassifier\n",
        "\n",
        "# Parámetros obtenidos de GridSearchCV\n",
        "best_params = {\n",
        "    \"n_estimators\": 200,\n",
        "    \"max_depth\": 20,\n",
        "    \"min_samples_leaf\": 1,\n",
        "    \"class_weight\": None,\n",
        "    \"random_state\": 42\n",
        "}\n",
        "\n",
        "# Instanciamos el RandomForest con los mejores hiperparámetros\n",
        "rf_best = RandomForestClassifier(**best_params)"
      ],
      "metadata": {
        "id": "WnCpBm8midfe"
      },
      "execution_count": 121,
      "outputs": []
    },
    {
      "cell_type": "markdown",
      "source": [
        "Reentrenamiento sobre el conjunto balanceado"
      ],
      "metadata": {
        "id": "KkFDqvvlonox"
      }
    },
    {
      "cell_type": "code",
      "source": [
        "# X_sm, y_sm: conjunto de entrenamiento preprocesado (SMOTE)\n",
        "rf_best.fit(X_sm, y_sm)"
      ],
      "metadata": {
        "colab": {
          "base_uri": "https://localhost:8080/",
          "height": 80
        },
        "id": "zYwakA_qop3a",
        "outputId": "43d4930c-862c-4a51-9fd3-d3c233f71225"
      },
      "execution_count": 122,
      "outputs": [
        {
          "output_type": "execute_result",
          "data": {
            "text/plain": [
              "RandomForestClassifier(max_depth=20, n_estimators=200, random_state=42)"
            ],
            "text/html": [
              "<style>#sk-container-id-4 {\n",
              "  /* Definition of color scheme common for light and dark mode */\n",
              "  --sklearn-color-text: #000;\n",
              "  --sklearn-color-text-muted: #666;\n",
              "  --sklearn-color-line: gray;\n",
              "  /* Definition of color scheme for unfitted estimators */\n",
              "  --sklearn-color-unfitted-level-0: #fff5e6;\n",
              "  --sklearn-color-unfitted-level-1: #f6e4d2;\n",
              "  --sklearn-color-unfitted-level-2: #ffe0b3;\n",
              "  --sklearn-color-unfitted-level-3: chocolate;\n",
              "  /* Definition of color scheme for fitted estimators */\n",
              "  --sklearn-color-fitted-level-0: #f0f8ff;\n",
              "  --sklearn-color-fitted-level-1: #d4ebff;\n",
              "  --sklearn-color-fitted-level-2: #b3dbfd;\n",
              "  --sklearn-color-fitted-level-3: cornflowerblue;\n",
              "\n",
              "  /* Specific color for light theme */\n",
              "  --sklearn-color-text-on-default-background: var(--sg-text-color, var(--theme-code-foreground, var(--jp-content-font-color1, black)));\n",
              "  --sklearn-color-background: var(--sg-background-color, var(--theme-background, var(--jp-layout-color0, white)));\n",
              "  --sklearn-color-border-box: var(--sg-text-color, var(--theme-code-foreground, var(--jp-content-font-color1, black)));\n",
              "  --sklearn-color-icon: #696969;\n",
              "\n",
              "  @media (prefers-color-scheme: dark) {\n",
              "    /* Redefinition of color scheme for dark theme */\n",
              "    --sklearn-color-text-on-default-background: var(--sg-text-color, var(--theme-code-foreground, var(--jp-content-font-color1, white)));\n",
              "    --sklearn-color-background: var(--sg-background-color, var(--theme-background, var(--jp-layout-color0, #111)));\n",
              "    --sklearn-color-border-box: var(--sg-text-color, var(--theme-code-foreground, var(--jp-content-font-color1, white)));\n",
              "    --sklearn-color-icon: #878787;\n",
              "  }\n",
              "}\n",
              "\n",
              "#sk-container-id-4 {\n",
              "  color: var(--sklearn-color-text);\n",
              "}\n",
              "\n",
              "#sk-container-id-4 pre {\n",
              "  padding: 0;\n",
              "}\n",
              "\n",
              "#sk-container-id-4 input.sk-hidden--visually {\n",
              "  border: 0;\n",
              "  clip: rect(1px 1px 1px 1px);\n",
              "  clip: rect(1px, 1px, 1px, 1px);\n",
              "  height: 1px;\n",
              "  margin: -1px;\n",
              "  overflow: hidden;\n",
              "  padding: 0;\n",
              "  position: absolute;\n",
              "  width: 1px;\n",
              "}\n",
              "\n",
              "#sk-container-id-4 div.sk-dashed-wrapped {\n",
              "  border: 1px dashed var(--sklearn-color-line);\n",
              "  margin: 0 0.4em 0.5em 0.4em;\n",
              "  box-sizing: border-box;\n",
              "  padding-bottom: 0.4em;\n",
              "  background-color: var(--sklearn-color-background);\n",
              "}\n",
              "\n",
              "#sk-container-id-4 div.sk-container {\n",
              "  /* jupyter's `normalize.less` sets `[hidden] { display: none; }`\n",
              "     but bootstrap.min.css set `[hidden] { display: none !important; }`\n",
              "     so we also need the `!important` here to be able to override the\n",
              "     default hidden behavior on the sphinx rendered scikit-learn.org.\n",
              "     See: https://github.com/scikit-learn/scikit-learn/issues/21755 */\n",
              "  display: inline-block !important;\n",
              "  position: relative;\n",
              "}\n",
              "\n",
              "#sk-container-id-4 div.sk-text-repr-fallback {\n",
              "  display: none;\n",
              "}\n",
              "\n",
              "div.sk-parallel-item,\n",
              "div.sk-serial,\n",
              "div.sk-item {\n",
              "  /* draw centered vertical line to link estimators */\n",
              "  background-image: linear-gradient(var(--sklearn-color-text-on-default-background), var(--sklearn-color-text-on-default-background));\n",
              "  background-size: 2px 100%;\n",
              "  background-repeat: no-repeat;\n",
              "  background-position: center center;\n",
              "}\n",
              "\n",
              "/* Parallel-specific style estimator block */\n",
              "\n",
              "#sk-container-id-4 div.sk-parallel-item::after {\n",
              "  content: \"\";\n",
              "  width: 100%;\n",
              "  border-bottom: 2px solid var(--sklearn-color-text-on-default-background);\n",
              "  flex-grow: 1;\n",
              "}\n",
              "\n",
              "#sk-container-id-4 div.sk-parallel {\n",
              "  display: flex;\n",
              "  align-items: stretch;\n",
              "  justify-content: center;\n",
              "  background-color: var(--sklearn-color-background);\n",
              "  position: relative;\n",
              "}\n",
              "\n",
              "#sk-container-id-4 div.sk-parallel-item {\n",
              "  display: flex;\n",
              "  flex-direction: column;\n",
              "}\n",
              "\n",
              "#sk-container-id-4 div.sk-parallel-item:first-child::after {\n",
              "  align-self: flex-end;\n",
              "  width: 50%;\n",
              "}\n",
              "\n",
              "#sk-container-id-4 div.sk-parallel-item:last-child::after {\n",
              "  align-self: flex-start;\n",
              "  width: 50%;\n",
              "}\n",
              "\n",
              "#sk-container-id-4 div.sk-parallel-item:only-child::after {\n",
              "  width: 0;\n",
              "}\n",
              "\n",
              "/* Serial-specific style estimator block */\n",
              "\n",
              "#sk-container-id-4 div.sk-serial {\n",
              "  display: flex;\n",
              "  flex-direction: column;\n",
              "  align-items: center;\n",
              "  background-color: var(--sklearn-color-background);\n",
              "  padding-right: 1em;\n",
              "  padding-left: 1em;\n",
              "}\n",
              "\n",
              "\n",
              "/* Toggleable style: style used for estimator/Pipeline/ColumnTransformer box that is\n",
              "clickable and can be expanded/collapsed.\n",
              "- Pipeline and ColumnTransformer use this feature and define the default style\n",
              "- Estimators will overwrite some part of the style using the `sk-estimator` class\n",
              "*/\n",
              "\n",
              "/* Pipeline and ColumnTransformer style (default) */\n",
              "\n",
              "#sk-container-id-4 div.sk-toggleable {\n",
              "  /* Default theme specific background. It is overwritten whether we have a\n",
              "  specific estimator or a Pipeline/ColumnTransformer */\n",
              "  background-color: var(--sklearn-color-background);\n",
              "}\n",
              "\n",
              "/* Toggleable label */\n",
              "#sk-container-id-4 label.sk-toggleable__label {\n",
              "  cursor: pointer;\n",
              "  display: flex;\n",
              "  width: 100%;\n",
              "  margin-bottom: 0;\n",
              "  padding: 0.5em;\n",
              "  box-sizing: border-box;\n",
              "  text-align: center;\n",
              "  align-items: start;\n",
              "  justify-content: space-between;\n",
              "  gap: 0.5em;\n",
              "}\n",
              "\n",
              "#sk-container-id-4 label.sk-toggleable__label .caption {\n",
              "  font-size: 0.6rem;\n",
              "  font-weight: lighter;\n",
              "  color: var(--sklearn-color-text-muted);\n",
              "}\n",
              "\n",
              "#sk-container-id-4 label.sk-toggleable__label-arrow:before {\n",
              "  /* Arrow on the left of the label */\n",
              "  content: \"▸\";\n",
              "  float: left;\n",
              "  margin-right: 0.25em;\n",
              "  color: var(--sklearn-color-icon);\n",
              "}\n",
              "\n",
              "#sk-container-id-4 label.sk-toggleable__label-arrow:hover:before {\n",
              "  color: var(--sklearn-color-text);\n",
              "}\n",
              "\n",
              "/* Toggleable content - dropdown */\n",
              "\n",
              "#sk-container-id-4 div.sk-toggleable__content {\n",
              "  max-height: 0;\n",
              "  max-width: 0;\n",
              "  overflow: hidden;\n",
              "  text-align: left;\n",
              "  /* unfitted */\n",
              "  background-color: var(--sklearn-color-unfitted-level-0);\n",
              "}\n",
              "\n",
              "#sk-container-id-4 div.sk-toggleable__content.fitted {\n",
              "  /* fitted */\n",
              "  background-color: var(--sklearn-color-fitted-level-0);\n",
              "}\n",
              "\n",
              "#sk-container-id-4 div.sk-toggleable__content pre {\n",
              "  margin: 0.2em;\n",
              "  border-radius: 0.25em;\n",
              "  color: var(--sklearn-color-text);\n",
              "  /* unfitted */\n",
              "  background-color: var(--sklearn-color-unfitted-level-0);\n",
              "}\n",
              "\n",
              "#sk-container-id-4 div.sk-toggleable__content.fitted pre {\n",
              "  /* unfitted */\n",
              "  background-color: var(--sklearn-color-fitted-level-0);\n",
              "}\n",
              "\n",
              "#sk-container-id-4 input.sk-toggleable__control:checked~div.sk-toggleable__content {\n",
              "  /* Expand drop-down */\n",
              "  max-height: 200px;\n",
              "  max-width: 100%;\n",
              "  overflow: auto;\n",
              "}\n",
              "\n",
              "#sk-container-id-4 input.sk-toggleable__control:checked~label.sk-toggleable__label-arrow:before {\n",
              "  content: \"▾\";\n",
              "}\n",
              "\n",
              "/* Pipeline/ColumnTransformer-specific style */\n",
              "\n",
              "#sk-container-id-4 div.sk-label input.sk-toggleable__control:checked~label.sk-toggleable__label {\n",
              "  color: var(--sklearn-color-text);\n",
              "  background-color: var(--sklearn-color-unfitted-level-2);\n",
              "}\n",
              "\n",
              "#sk-container-id-4 div.sk-label.fitted input.sk-toggleable__control:checked~label.sk-toggleable__label {\n",
              "  background-color: var(--sklearn-color-fitted-level-2);\n",
              "}\n",
              "\n",
              "/* Estimator-specific style */\n",
              "\n",
              "/* Colorize estimator box */\n",
              "#sk-container-id-4 div.sk-estimator input.sk-toggleable__control:checked~label.sk-toggleable__label {\n",
              "  /* unfitted */\n",
              "  background-color: var(--sklearn-color-unfitted-level-2);\n",
              "}\n",
              "\n",
              "#sk-container-id-4 div.sk-estimator.fitted input.sk-toggleable__control:checked~label.sk-toggleable__label {\n",
              "  /* fitted */\n",
              "  background-color: var(--sklearn-color-fitted-level-2);\n",
              "}\n",
              "\n",
              "#sk-container-id-4 div.sk-label label.sk-toggleable__label,\n",
              "#sk-container-id-4 div.sk-label label {\n",
              "  /* The background is the default theme color */\n",
              "  color: var(--sklearn-color-text-on-default-background);\n",
              "}\n",
              "\n",
              "/* On hover, darken the color of the background */\n",
              "#sk-container-id-4 div.sk-label:hover label.sk-toggleable__label {\n",
              "  color: var(--sklearn-color-text);\n",
              "  background-color: var(--sklearn-color-unfitted-level-2);\n",
              "}\n",
              "\n",
              "/* Label box, darken color on hover, fitted */\n",
              "#sk-container-id-4 div.sk-label.fitted:hover label.sk-toggleable__label.fitted {\n",
              "  color: var(--sklearn-color-text);\n",
              "  background-color: var(--sklearn-color-fitted-level-2);\n",
              "}\n",
              "\n",
              "/* Estimator label */\n",
              "\n",
              "#sk-container-id-4 div.sk-label label {\n",
              "  font-family: monospace;\n",
              "  font-weight: bold;\n",
              "  display: inline-block;\n",
              "  line-height: 1.2em;\n",
              "}\n",
              "\n",
              "#sk-container-id-4 div.sk-label-container {\n",
              "  text-align: center;\n",
              "}\n",
              "\n",
              "/* Estimator-specific */\n",
              "#sk-container-id-4 div.sk-estimator {\n",
              "  font-family: monospace;\n",
              "  border: 1px dotted var(--sklearn-color-border-box);\n",
              "  border-radius: 0.25em;\n",
              "  box-sizing: border-box;\n",
              "  margin-bottom: 0.5em;\n",
              "  /* unfitted */\n",
              "  background-color: var(--sklearn-color-unfitted-level-0);\n",
              "}\n",
              "\n",
              "#sk-container-id-4 div.sk-estimator.fitted {\n",
              "  /* fitted */\n",
              "  background-color: var(--sklearn-color-fitted-level-0);\n",
              "}\n",
              "\n",
              "/* on hover */\n",
              "#sk-container-id-4 div.sk-estimator:hover {\n",
              "  /* unfitted */\n",
              "  background-color: var(--sklearn-color-unfitted-level-2);\n",
              "}\n",
              "\n",
              "#sk-container-id-4 div.sk-estimator.fitted:hover {\n",
              "  /* fitted */\n",
              "  background-color: var(--sklearn-color-fitted-level-2);\n",
              "}\n",
              "\n",
              "/* Specification for estimator info (e.g. \"i\" and \"?\") */\n",
              "\n",
              "/* Common style for \"i\" and \"?\" */\n",
              "\n",
              ".sk-estimator-doc-link,\n",
              "a:link.sk-estimator-doc-link,\n",
              "a:visited.sk-estimator-doc-link {\n",
              "  float: right;\n",
              "  font-size: smaller;\n",
              "  line-height: 1em;\n",
              "  font-family: monospace;\n",
              "  background-color: var(--sklearn-color-background);\n",
              "  border-radius: 1em;\n",
              "  height: 1em;\n",
              "  width: 1em;\n",
              "  text-decoration: none !important;\n",
              "  margin-left: 0.5em;\n",
              "  text-align: center;\n",
              "  /* unfitted */\n",
              "  border: var(--sklearn-color-unfitted-level-1) 1pt solid;\n",
              "  color: var(--sklearn-color-unfitted-level-1);\n",
              "}\n",
              "\n",
              ".sk-estimator-doc-link.fitted,\n",
              "a:link.sk-estimator-doc-link.fitted,\n",
              "a:visited.sk-estimator-doc-link.fitted {\n",
              "  /* fitted */\n",
              "  border: var(--sklearn-color-fitted-level-1) 1pt solid;\n",
              "  color: var(--sklearn-color-fitted-level-1);\n",
              "}\n",
              "\n",
              "/* On hover */\n",
              "div.sk-estimator:hover .sk-estimator-doc-link:hover,\n",
              ".sk-estimator-doc-link:hover,\n",
              "div.sk-label-container:hover .sk-estimator-doc-link:hover,\n",
              ".sk-estimator-doc-link:hover {\n",
              "  /* unfitted */\n",
              "  background-color: var(--sklearn-color-unfitted-level-3);\n",
              "  color: var(--sklearn-color-background);\n",
              "  text-decoration: none;\n",
              "}\n",
              "\n",
              "div.sk-estimator.fitted:hover .sk-estimator-doc-link.fitted:hover,\n",
              ".sk-estimator-doc-link.fitted:hover,\n",
              "div.sk-label-container:hover .sk-estimator-doc-link.fitted:hover,\n",
              ".sk-estimator-doc-link.fitted:hover {\n",
              "  /* fitted */\n",
              "  background-color: var(--sklearn-color-fitted-level-3);\n",
              "  color: var(--sklearn-color-background);\n",
              "  text-decoration: none;\n",
              "}\n",
              "\n",
              "/* Span, style for the box shown on hovering the info icon */\n",
              ".sk-estimator-doc-link span {\n",
              "  display: none;\n",
              "  z-index: 9999;\n",
              "  position: relative;\n",
              "  font-weight: normal;\n",
              "  right: .2ex;\n",
              "  padding: .5ex;\n",
              "  margin: .5ex;\n",
              "  width: min-content;\n",
              "  min-width: 20ex;\n",
              "  max-width: 50ex;\n",
              "  color: var(--sklearn-color-text);\n",
              "  box-shadow: 2pt 2pt 4pt #999;\n",
              "  /* unfitted */\n",
              "  background: var(--sklearn-color-unfitted-level-0);\n",
              "  border: .5pt solid var(--sklearn-color-unfitted-level-3);\n",
              "}\n",
              "\n",
              ".sk-estimator-doc-link.fitted span {\n",
              "  /* fitted */\n",
              "  background: var(--sklearn-color-fitted-level-0);\n",
              "  border: var(--sklearn-color-fitted-level-3);\n",
              "}\n",
              "\n",
              ".sk-estimator-doc-link:hover span {\n",
              "  display: block;\n",
              "}\n",
              "\n",
              "/* \"?\"-specific style due to the `<a>` HTML tag */\n",
              "\n",
              "#sk-container-id-4 a.estimator_doc_link {\n",
              "  float: right;\n",
              "  font-size: 1rem;\n",
              "  line-height: 1em;\n",
              "  font-family: monospace;\n",
              "  background-color: var(--sklearn-color-background);\n",
              "  border-radius: 1rem;\n",
              "  height: 1rem;\n",
              "  width: 1rem;\n",
              "  text-decoration: none;\n",
              "  /* unfitted */\n",
              "  color: var(--sklearn-color-unfitted-level-1);\n",
              "  border: var(--sklearn-color-unfitted-level-1) 1pt solid;\n",
              "}\n",
              "\n",
              "#sk-container-id-4 a.estimator_doc_link.fitted {\n",
              "  /* fitted */\n",
              "  border: var(--sklearn-color-fitted-level-1) 1pt solid;\n",
              "  color: var(--sklearn-color-fitted-level-1);\n",
              "}\n",
              "\n",
              "/* On hover */\n",
              "#sk-container-id-4 a.estimator_doc_link:hover {\n",
              "  /* unfitted */\n",
              "  background-color: var(--sklearn-color-unfitted-level-3);\n",
              "  color: var(--sklearn-color-background);\n",
              "  text-decoration: none;\n",
              "}\n",
              "\n",
              "#sk-container-id-4 a.estimator_doc_link.fitted:hover {\n",
              "  /* fitted */\n",
              "  background-color: var(--sklearn-color-fitted-level-3);\n",
              "}\n",
              "</style><div id=\"sk-container-id-4\" class=\"sk-top-container\"><div class=\"sk-text-repr-fallback\"><pre>RandomForestClassifier(max_depth=20, n_estimators=200, random_state=42)</pre><b>In a Jupyter environment, please rerun this cell to show the HTML representation or trust the notebook. <br />On GitHub, the HTML representation is unable to render, please try loading this page with nbviewer.org.</b></div><div class=\"sk-container\" hidden><div class=\"sk-item\"><div class=\"sk-estimator fitted sk-toggleable\"><input class=\"sk-toggleable__control sk-hidden--visually\" id=\"sk-estimator-id-4\" type=\"checkbox\" checked><label for=\"sk-estimator-id-4\" class=\"sk-toggleable__label fitted sk-toggleable__label-arrow\"><div><div>RandomForestClassifier</div></div><div><a class=\"sk-estimator-doc-link fitted\" rel=\"noreferrer\" target=\"_blank\" href=\"https://scikit-learn.org/1.6/modules/generated/sklearn.ensemble.RandomForestClassifier.html\">?<span>Documentation for RandomForestClassifier</span></a><span class=\"sk-estimator-doc-link fitted\">i<span>Fitted</span></span></div></label><div class=\"sk-toggleable__content fitted\"><pre>RandomForestClassifier(max_depth=20, n_estimators=200, random_state=42)</pre></div> </div></div></div></div>"
            ]
          },
          "metadata": {},
          "execution_count": 122
        }
      ]
    },
    {
      "cell_type": "markdown",
      "source": [
        "Predicción y métricas de evaluación"
      ],
      "metadata": {
        "id": "hGVj7iv9pBtj"
      }
    },
    {
      "cell_type": "code",
      "source": [
        "from sklearn.metrics import classification_report, confusion_matrix, roc_auc_score\n",
        "\n",
        "# Predicciones\n",
        "y_pred_best = rf_best.predict(X_test)\n",
        "y_proba_best = rf_best.predict_proba(X_test)[:, 1]\n",
        "\n",
        "# Métricas detalladas\n",
        "print(\"Classification Report:\\n\", classification_report(y_test, y_pred_best))\n",
        "print(\"Confusion Matrix:\\n\", confusion_matrix(y_test, y_pred_best))\n",
        "print(\"ROC AUC Score:\", roc_auc_score(y_test, y_proba_best))\n"
      ],
      "metadata": {
        "colab": {
          "base_uri": "https://localhost:8080/"
        },
        "id": "b1g8dm9kpJrO",
        "outputId": "95a78631-d3d1-4fd4-fdb1-4cb3e0b7c251"
      },
      "execution_count": 123,
      "outputs": [
        {
          "output_type": "stream",
          "name": "stdout",
          "text": [
            "Classification Report:\n",
            "               precision    recall  f1-score   support\n",
            "\n",
            "           0       0.87      0.80      0.83      1549\n",
            "           1       0.55      0.66      0.60       561\n",
            "\n",
            "    accuracy                           0.77      2110\n",
            "   macro avg       0.71      0.73      0.72      2110\n",
            "weighted avg       0.78      0.77      0.77      2110\n",
            "\n",
            "Confusion Matrix:\n",
            " [[1246  303]\n",
            " [ 192  369]]\n",
            "ROC AUC Score: 0.8207572247749971\n"
          ]
        }
      ]
    },
    {
      "cell_type": "code",
      "source": [
        "import pandas as pd\n",
        "import numpy as np\n",
        "\n",
        "# Supongamos que X_train es tu DataFrame de entrenamiento original\n",
        "feature_names = X_train.columns\n",
        "\n",
        "# Importancias del Random Forest entrenado\n",
        "importances = rf_best.feature_importances_\n",
        "\n",
        "# DataFrame con nombre de variable y su importancia\n",
        "feat_imp = pd.DataFrame({\n",
        "    \"feature\": feature_names,\n",
        "    \"importance\": importances\n",
        "})\n",
        "\n",
        "# Ordenar de mayor a menor\n",
        "feat_imp = feat_imp.sort_values(by=\"importance\", ascending=False).reset_index(drop=True)\n",
        "\n",
        "print(feat_imp.head(20))\n"
      ],
      "metadata": {
        "colab": {
          "base_uri": "https://localhost:8080/"
        },
        "id": "IlvwuYPgpl8q",
        "outputId": "8e6efc39-e017-4129-d3a8-3cb8262c0834"
      },
      "execution_count": 124,
      "outputs": [
        {
          "output_type": "stream",
          "name": "stdout",
          "text": [
            "                      feature  importance\n",
            "0            account.Contract    0.149149\n",
            "1             customer.tenure    0.138337\n",
            "2       account.Charges.Total    0.137232\n",
            "3     account.Charges.Monthly    0.127512\n",
            "4             Cuentas_Diarias    0.126745\n",
            "5        internet.TechSupport    0.053541\n",
            "6     internet.OnlineSecurity    0.051051\n",
            "7       account.PaymentMethod    0.044428\n",
            "8       internet.OnlineBackup    0.026839\n",
            "9    internet.InternetService    0.023924\n",
            "10           customer.Partner    0.022741\n",
            "11        customer.Dependents    0.020979\n",
            "12   account.PaperlessBilling    0.019625\n",
            "13  internet.DeviceProtection    0.017223\n",
            "14   internet.StreamingMovies    0.013813\n",
            "15     customer.SeniorCitizen    0.013728\n",
            "16       internet.StreamingTV    0.013133\n"
          ]
        }
      ]
    },
    {
      "cell_type": "code",
      "source": [
        "import matplotlib.pyplot as plt\n",
        "import seaborn as sns\n",
        "\n",
        "plt.figure(figsize=(10, 6))\n",
        "sns.barplot(\n",
        "    data=feat_imp.head(20),\n",
        "    x=\"importance\",\n",
        "    y=\"feature\",\n",
        "    palette=\"viridis\"\n",
        ")\n",
        "plt.title(\"Top 20 Features por importancia\")\n",
        "plt.xlabel(\"Importancia\")\n",
        "plt.ylabel(\"Feature\")\n",
        "plt.tight_layout()\n",
        "plt.show()"
      ],
      "metadata": {
        "colab": {
          "base_uri": "https://localhost:8080/",
          "height": 681
        },
        "id": "IBNEJ7SasB1W",
        "outputId": "9e8530b9-e807-46b3-ec30-d828256625c6"
      },
      "execution_count": 125,
      "outputs": [
        {
          "output_type": "stream",
          "name": "stderr",
          "text": [
            "/tmp/ipython-input-3336183245.py:5: FutureWarning: \n",
            "\n",
            "Passing `palette` without assigning `hue` is deprecated and will be removed in v0.14.0. Assign the `y` variable to `hue` and set `legend=False` for the same effect.\n",
            "\n",
            "  sns.barplot(\n"
          ]
        },
        {
          "output_type": "display_data",
          "data": {
            "text/plain": [
              "<Figure size 1000x600 with 1 Axes>"
            ],
            "image/png": "[encoded data removed]"
          },
          "metadata": {}
        }
      ]
    },
    {
      "cell_type": "code",
      "source": [
        "feat_imp[\"cum_importance\"] = feat_imp[\"importance\"].cumsum()\n",
        "selected_acc = feat_imp[feat_imp[\"cum_importance\"] <= 0.80][\"feature\"].tolist()\n",
        "print(f\"Número de features para cubrir 80% de importancia: {len(selected_acc)}\")\n",
        "selected_acc"
      ],
      "metadata": {
        "colab": {
          "base_uri": "https://localhost:8080/"
        },
        "id": "Lou-E_x_sat-",
        "outputId": "8641972d-4786-4a00-a51f-92e2c7890b3a"
      },
      "execution_count": 126,
      "outputs": [
        {
          "output_type": "stream",
          "name": "stdout",
          "text": [
            "Número de features para cubrir 80% de importancia: 7\n"
          ]
        },
        {
          "output_type": "execute_result",
          "data": {
            "text/plain": [
              "['account.Contract',\n",
              " 'customer.tenure',\n",
              " 'account.Charges.Total',\n",
              " 'account.Charges.Monthly',\n",
              " 'Cuentas_Diarias',\n",
              " 'internet.TechSupport',\n",
              " 'internet.OnlineSecurity']"
            ]
          },
          "metadata": {},
          "execution_count": 126
        }
      ]
    },
    {
      "cell_type": "code",
      "source": [
        "# Filtrar columnas en X_train y X_test\n",
        "X_train_sel = X_train[selected_acc]\n",
        "X_test_sel  = X_test[selected_acc]\n",
        "\n",
        "# Reentrenar\n",
        "from sklearn.ensemble import RandomForestClassifier\n",
        "\n",
        "rf_reduced = RandomForestClassifier(**rf_best.get_params())\n",
        "rf_reduced.fit(X_train_sel, y_train)\n",
        "\n",
        "# Evaluar\n",
        "from sklearn.metrics import roc_auc_score\n",
        "\n",
        "prueba_reduced = rf_reduced.predict_proba(X_test_sel)[:, 1]\n",
        "print(\"AUC con features reducidas:\", roc_auc_score(y_test, prueba_reduced))\n"
      ],
      "metadata": {
        "colab": {
          "base_uri": "https://localhost:8080/"
        },
        "id": "bzvJyJ84vX2r",
        "outputId": "2deba028-c19f-488f-cbff-30a1f0f02cb2"
      },
      "execution_count": 128,
      "outputs": [
        {
          "output_type": "stream",
          "name": "stdout",
          "text": [
            "AUC con features reducidas: 0.7985417536930848\n"
          ]
        }
      ]
    },
    {
      "cell_type": "markdown",
      "source": [
        "AUC es mucho menor (0.7985) se continua con el modelo anterior (0.8208)"
      ],
      "metadata": {
        "id": "qfptMSv5wKDw"
      }
    },
    {
      "cell_type": "markdown",
      "source": [
        "# 5. Serialización del modelo y pipeline completo para producción"
      ],
      "metadata": {
        "id": "3wxuPsWezh3H"
      }
    },
    {
      "cell_type": "markdown",
      "source": [
        "## 5.1 Definir la lista de features seleccionadas"
      ],
      "metadata": {
        "id": "fYUgAqlwzq5U"
      }
    },
    {
      "cell_type": "code",
      "source": [
        "# Las 16 variables con mayor importancia\n",
        "selected_numeric = [\n",
        "    \"customer.tenure\",\n",
        "    \"account.Charges.Monthly\",\n",
        "    \"account.Charges.Total\",\n",
        "    \"Cuentas_Diarias\"\n",
        "]\n",
        "\n",
        "selected_categorical = [\n",
        "    \"account.Contract\",\n",
        "    \"internet.TechSupport\",\n",
        "    \"internet.OnlineSecurity\",\n",
        "    \"account.PaymentMethod\",\n",
        "    \"internet.OnlineBackup\",\n",
        "    \"internet.InternetService\",\n",
        "    \"customer.Partner\",\n",
        "    \"customer.Dependents\",\n",
        "    \"account.PaperlessBilling\",\n",
        "    \"internet.DeviceProtection\",\n",
        "    \"internet.StreamingMovies\",\n",
        "    \"customer.SeniorCitizen\"\n",
        "]\n",
        "\n",
        "# Unión de todas las features\n",
        "selected_features = selected_numeric + selected_categorical"
      ],
      "metadata": {
        "id": "Jx0JRZ6NvwEM"
      },
      "execution_count": 129,
      "outputs": []
    },
    {
      "cell_type": "markdown",
      "source": [
        "## Construir el preprocesador"
      ],
      "metadata": {
        "id": "xtVp6F3P0J7d"
      }
    },
    {
      "cell_type": "code",
      "source": [
        "from sklearn.compose import ColumnTransformer\n",
        "from sklearn.preprocessing import StandardScaler, OrdinalEncoder\n",
        "\n",
        "numeric_transformer = StandardScaler()\n",
        "categorical_transformer = OrdinalEncoder()\n",
        "\n",
        "preprocessor = ColumnTransformer(\n",
        "    transformers=[\n",
        "        (\"num\", numeric_transformer, selected_numeric),\n",
        "        (\"cat\", categorical_transformer, selected_categorical)\n",
        "    ],\n",
        "    remainder=\"drop\"  # descartamos cualquier otra columna\n",
        ")"
      ],
      "metadata": {
        "id": "XGAkGzy80OrO"
      },
      "execution_count": 130,
      "outputs": []
    },
    {
      "cell_type": "markdown",
      "source": [
        "Crear el pipeline completo"
      ],
      "metadata": {
        "id": "jbPaZL6D16ng"
      }
    },
    {
      "cell_type": "code",
      "source": [
        "from sklearn.pipeline import Pipeline\n",
        "from sklearn.ensemble import RandomForestClassifier\n",
        "\n",
        "# Hiperparámetros obtenidos de GridSearchCV\n",
        "best_params = {\n",
        "    \"n_estimators\": 200,\n",
        "    \"max_depth\": 20,\n",
        "    \"min_samples_leaf\": 1,\n",
        "    \"class_weight\": None,\n",
        "    \"random_state\": 42\n",
        "}\n",
        "\n",
        "# Instanciar el clasificador optimizado\n",
        "rf_best = RandomForestClassifier(**best_params)\n",
        "\n",
        "# Pipeline que engloba preprocesamiento y modelo\n",
        "pipeline = Pipeline(steps=[\n",
        "    (\"preprocessor\", preprocessor),\n",
        "    (\"classifier\", rf_best)\n",
        "])"
      ],
      "metadata": {
        "id": "SPNNpYg81-zZ"
      },
      "execution_count": 131,
      "outputs": []
    },
    {
      "cell_type": "markdown",
      "source": [
        "Entrenar el pipeline con el set de entrenamiento balanceado"
      ],
      "metadata": {
        "id": "hDdLgeHC2F8U"
      }
    },
    {
      "cell_type": "code",
      "source": [
        "df_limpio[\"Churn\"].info()"
      ],
      "metadata": {
        "colab": {
          "base_uri": "https://localhost:8080/"
        },
        "id": "f-yp62It9Gfw",
        "outputId": "67298325-c461-4a2a-dc22-45a6e08cdeac"
      },
      "execution_count": 135,
      "outputs": [
        {
          "output_type": "stream",
          "name": "stdout",
          "text": [
            "<class 'pandas.core.series.Series'>\n",
            "RangeIndex: 7032 entries, 0 to 7031\n",
            "Series name: Churn\n",
            "Non-Null Count  Dtype\n",
            "--------------  -----\n",
            "7032 non-null   int64\n",
            "dtypes: int64(1)\n",
            "memory usage: 55.1 KB\n"
          ]
        }
      ]
    },
    {
      "cell_type": "code",
      "source": [
        "# Asumiendo que X_sm y también y_sm provienen de SMOTE + escalado previo,\n",
        "# y que X_train/X_test originales contienen todas las columnas de raw data:\n",
        "\n",
        "# Aplicamos SMOTE sobre las variables seleccionadas\n",
        "from imblearn.over_sampling import SMOTE\n",
        "\n",
        "X_sel = df_limpio[selected_features]\n",
        "y = df_limpio[\"Churn\"]\n",
        "\n",
        "smote = SMOTE(random_state=42)\n",
        "X_res, y_res = smote.fit_resample(X_sel, y)\n",
        "\n",
        "# Ahora entrenamos directamente el pipeline (incluye escalado/codificación)\n",
        "pipeline.fit(X_res, y_res)"
      ],
      "metadata": {
        "colab": {
          "base_uri": "https://localhost:8080/",
          "height": 247
        },
        "id": "HztFonF62Hew",
        "outputId": "8fdac4ef-012a-4e78-a148-ed38589ba888"
      },
      "execution_count": 136,
      "outputs": [
        {
          "output_type": "execute_result",
          "data": {
            "text/plain": [
              "Pipeline(steps=[('preprocessor',\n",
              "                 ColumnTransformer(transformers=[('num', StandardScaler(),\n",
              "                                                  ['customer.tenure',\n",
              "                                                   'account.Charges.Monthly',\n",
              "                                                   'account.Charges.Total',\n",
              "                                                   'Cuentas_Diarias']),\n",
              "                                                 ('cat', OrdinalEncoder(),\n",
              "                                                  ['account.Contract',\n",
              "                                                   'internet.TechSupport',\n",
              "                                                   'internet.OnlineSecurity',\n",
              "                                                   'account.PaymentMethod',\n",
              "                                                   'internet.OnlineBackup',\n",
              "                                                   'internet.InternetService',\n",
              "                                                   'customer.Partner',\n",
              "                                                   'customer.Dependents',\n",
              "                                                   'account.PaperlessBilling',\n",
              "                                                   'internet.DeviceProtection',\n",
              "                                                   'internet.StreamingMovies',\n",
              "                                                   'customer.SeniorCitizen'])])),\n",
              "                ('classifier',\n",
              "                 RandomForestClassifier(max_depth=20, n_estimators=200,\n",
              "                                        random_state=42))])"
            ],
            "text/html": [
              "<style>#sk-container-id-5 {\n",
              "  /* Definition of color scheme common for light and dark mode */\n",
              "  --sklearn-color-text: #000;\n",
              "  --sklearn-color-text-muted: #666;\n",
              "  --sklearn-color-line: gray;\n",
              "  /* Definition of color scheme for unfitted estimators */\n",
              "  --sklearn-color-unfitted-level-0: #fff5e6;\n",
              "  --sklearn-color-unfitted-level-1: #f6e4d2;\n",
              "  --sklearn-color-unfitted-level-2: #ffe0b3;\n",
              "  --sklearn-color-unfitted-level-3: chocolate;\n",
              "  /* Definition of color scheme for fitted estimators */\n",
              "  --sklearn-color-fitted-level-0: #f0f8ff;\n",
              "  --sklearn-color-fitted-level-1: #d4ebff;\n",
              "  --sklearn-color-fitted-level-2: #b3dbfd;\n",
              "  --sklearn-color-fitted-level-3: cornflowerblue;\n",
              "\n",
              "  /* Specific color for light theme */\n",
              "  --sklearn-color-text-on-default-background: var(--sg-text-color, var(--theme-code-foreground, var(--jp-content-font-color1, black)));\n",
              "  --sklearn-color-background: var(--sg-background-color, var(--theme-background, var(--jp-layout-color0, white)));\n",
              "  --sklearn-color-border-box: var(--sg-text-color, var(--theme-code-foreground, var(--jp-content-font-color1, black)));\n",
              "  --sklearn-color-icon: #696969;\n",
              "\n",
              "  @media (prefers-color-scheme: dark) {\n",
              "    /* Redefinition of color scheme for dark theme */\n",
              "    --sklearn-color-text-on-default-background: var(--sg-text-color, var(--theme-code-foreground, var(--jp-content-font-color1, white)));\n",
              "    --sklearn-color-background: var(--sg-background-color, var(--theme-background, var(--jp-layout-color0, #111)));\n",
              "    --sklearn-color-border-box: var(--sg-text-color, var(--theme-code-foreground, var(--jp-content-font-color1, white)));\n",
              "    --sklearn-color-icon: #878787;\n",
              "  }\n",
              "}\n",
              "\n",
              "#sk-container-id-5 {\n",
              "  color: var(--sklearn-color-text);\n",
              "}\n",
              "\n",
              "#sk-container-id-5 pre {\n",
              "  padding: 0;\n",
              "}\n",
              "\n",
              "#sk-container-id-5 input.sk-hidden--visually {\n",
              "  border: 0;\n",
              "  clip: rect(1px 1px 1px 1px);\n",
              "  clip: rect(1px, 1px, 1px, 1px);\n",
              "  height: 1px;\n",
              "  margin: -1px;\n",
              "  overflow: hidden;\n",
              "  padding: 0;\n",
              "  position: absolute;\n",
              "  width: 1px;\n",
              "}\n",
              "\n",
              "#sk-container-id-5 div.sk-dashed-wrapped {\n",
              "  border: 1px dashed var(--sklearn-color-line);\n",
              "  margin: 0 0.4em 0.5em 0.4em;\n",
              "  box-sizing: border-box;\n",
              "  padding-bottom: 0.4em;\n",
              "  background-color: var(--sklearn-color-background);\n",
              "}\n",
              "\n",
              "#sk-container-id-5 div.sk-container {\n",
              "  /* jupyter's `normalize.less` sets `[hidden] { display: none; }`\n",
              "     but bootstrap.min.css set `[hidden] { display: none !important; }`\n",
              "     so we also need the `!important` here to be able to override the\n",
              "     default hidden behavior on the sphinx rendered scikit-learn.org.\n",
              "     See: https://github.com/scikit-learn/scikit-learn/issues/21755 */\n",
              "  display: inline-block !important;\n",
              "  position: relative;\n",
              "}\n",
              "\n",
              "#sk-container-id-5 div.sk-text-repr-fallback {\n",
              "  display: none;\n",
              "}\n",
              "\n",
              "div.sk-parallel-item,\n",
              "div.sk-serial,\n",
              "div.sk-item {\n",
              "  /* draw centered vertical line to link estimators */\n",
              "  background-image: linear-gradient(var(--sklearn-color-text-on-default-background), var(--sklearn-color-text-on-default-background));\n",
              "  background-size: 2px 100%;\n",
              "  background-repeat: no-repeat;\n",
              "  background-position: center center;\n",
              "}\n",
              "\n",
              "/* Parallel-specific style estimator block */\n",
              "\n",
              "#sk-container-id-5 div.sk-parallel-item::after {\n",
              "  content: \"\";\n",
              "  width: 100%;\n",
              "  border-bottom: 2px solid var(--sklearn-color-text-on-default-background);\n",
              "  flex-grow: 1;\n",
              "}\n",
              "\n",
              "#sk-container-id-5 div.sk-parallel {\n",
              "  display: flex;\n",
              "  align-items: stretch;\n",
              "  justify-content: center;\n",
              "  background-color: var(--sklearn-color-background);\n",
              "  position: relative;\n",
              "}\n",
              "\n",
              "#sk-container-id-5 div.sk-parallel-item {\n",
              "  display: flex;\n",
              "  flex-direction: column;\n",
              "}\n",
              "\n",
              "#sk-container-id-5 div.sk-parallel-item:first-child::after {\n",
              "  align-self: flex-end;\n",
              "  width: 50%;\n",
              "}\n",
              "\n",
              "#sk-container-id-5 div.sk-parallel-item:last-child::after {\n",
              "  align-self: flex-start;\n",
              "  width: 50%;\n",
              "}\n",
              "\n",
              "#sk-container-id-5 div.sk-parallel-item:only-child::after {\n",
              "  width: 0;\n",
              "}\n",
              "\n",
              "/* Serial-specific style estimator block */\n",
              "\n",
              "#sk-container-id-5 div.sk-serial {\n",
              "  display: flex;\n",
              "  flex-direction: column;\n",
              "  align-items: center;\n",
              "  background-color: var(--sklearn-color-background);\n",
              "  padding-right: 1em;\n",
              "  padding-left: 1em;\n",
              "}\n",
              "\n",
              "\n",
              "/* Toggleable style: style used for estimator/Pipeline/ColumnTransformer box that is\n",
              "clickable and can be expanded/collapsed.\n",
              "- Pipeline and ColumnTransformer use this feature and define the default style\n",
              "- Estimators will overwrite some part of the style using the `sk-estimator` class\n",
              "*/\n",
              "\n",
              "/* Pipeline and ColumnTransformer style (default) */\n",
              "\n",
              "#sk-container-id-5 div.sk-toggleable {\n",
              "  /* Default theme specific background. It is overwritten whether we have a\n",
              "  specific estimator or a Pipeline/ColumnTransformer */\n",
              "  background-color: var(--sklearn-color-background);\n",
              "}\n",
              "\n",
              "/* Toggleable label */\n",
              "#sk-container-id-5 label.sk-toggleable__label {\n",
              "  cursor: pointer;\n",
              "  display: flex;\n",
              "  width: 100%;\n",
              "  margin-bottom: 0;\n",
              "  padding: 0.5em;\n",
              "  box-sizing: border-box;\n",
              "  text-align: center;\n",
              "  align-items: start;\n",
              "  justify-content: space-between;\n",
              "  gap: 0.5em;\n",
              "}\n",
              "\n",
              "#sk-container-id-5 label.sk-toggleable__label .caption {\n",
              "  font-size: 0.6rem;\n",
              "  font-weight: lighter;\n",
              "  color: var(--sklearn-color-text-muted);\n",
              "}\n",
              "\n",
              "#sk-container-id-5 label.sk-toggleable__label-arrow:before {\n",
              "  /* Arrow on the left of the label */\n",
              "  content: \"▸\";\n",
              "  float: left;\n",
              "  margin-right: 0.25em;\n",
              "  color: var(--sklearn-color-icon);\n",
              "}\n",
              "\n",
              "#sk-container-id-5 label.sk-toggleable__label-arrow:hover:before {\n",
              "  color: var(--sklearn-color-text);\n",
              "}\n",
              "\n",
              "/* Toggleable content - dropdown */\n",
              "\n",
              "#sk-container-id-5 div.sk-toggleable__content {\n",
              "  max-height: 0;\n",
              "  max-width: 0;\n",
              "  overflow: hidden;\n",
              "  text-align: left;\n",
              "  /* unfitted */\n",
              "  background-color: var(--sklearn-color-unfitted-level-0);\n",
              "}\n",
              "\n",
              "#sk-container-id-5 div.sk-toggleable__content.fitted {\n",
              "  /* fitted */\n",
              "  background-color: var(--sklearn-color-fitted-level-0);\n",
              "}\n",
              "\n",
              "#sk-container-id-5 div.sk-toggleable__content pre {\n",
              "  margin: 0.2em;\n",
              "  border-radius: 0.25em;\n",
              "  color: var(--sklearn-color-text);\n",
              "  /* unfitted */\n",
              "  background-color: var(--sklearn-color-unfitted-level-0);\n",
              "}\n",
              "\n",
              "#sk-container-id-5 div.sk-toggleable__content.fitted pre {\n",
              "  /* unfitted */\n",
              "  background-color: var(--sklearn-color-fitted-level-0);\n",
              "}\n",
              "\n",
              "#sk-container-id-5 input.sk-toggleable__control:checked~div.sk-toggleable__content {\n",
              "  /* Expand drop-down */\n",
              "  max-height: 200px;\n",
              "  max-width: 100%;\n",
              "  overflow: auto;\n",
              "}\n",
              "\n",
              "#sk-container-id-5 input.sk-toggleable__control:checked~label.sk-toggleable__label-arrow:before {\n",
              "  content: \"▾\";\n",
              "}\n",
              "\n",
              "/* Pipeline/ColumnTransformer-specific style */\n",
              "\n",
              "#sk-container-id-5 div.sk-label input.sk-toggleable__control:checked~label.sk-toggleable__label {\n",
              "  color: var(--sklearn-color-text);\n",
              "  background-color: var(--sklearn-color-unfitted-level-2);\n",
              "}\n",
              "\n",
              "#sk-container-id-5 div.sk-label.fitted input.sk-toggleable__control:checked~label.sk-toggleable__label {\n",
              "  background-color: var(--sklearn-color-fitted-level-2);\n",
              "}\n",
              "\n",
              "/* Estimator-specific style */\n",
              "\n",
              "/* Colorize estimator box */\n",
              "#sk-container-id-5 div.sk-estimator input.sk-toggleable__control:checked~label.sk-toggleable__label {\n",
              "  /* unfitted */\n",
              "  background-color: var(--sklearn-color-unfitted-level-2);\n",
              "}\n",
              "\n",
              "#sk-container-id-5 div.sk-estimator.fitted input.sk-toggleable__control:checked~label.sk-toggleable__label {\n",
              "  /* fitted */\n",
              "  background-color: var(--sklearn-color-fitted-level-2);\n",
              "}\n",
              "\n",
              "#sk-container-id-5 div.sk-label label.sk-toggleable__label,\n",
              "#sk-container-id-5 div.sk-label label {\n",
              "  /* The background is the default theme color */\n",
              "  color: var(--sklearn-color-text-on-default-background);\n",
              "}\n",
              "\n",
              "/* On hover, darken the color of the background */\n",
              "#sk-container-id-5 div.sk-label:hover label.sk-toggleable__label {\n",
              "  color: var(--sklearn-color-text);\n",
              "  background-color: var(--sklearn-color-unfitted-level-2);\n",
              "}\n",
              "\n",
              "/* Label box, darken color on hover, fitted */\n",
              "#sk-container-id-5 div.sk-label.fitted:hover label.sk-toggleable__label.fitted {\n",
              "  color: var(--sklearn-color-text);\n",
              "  background-color: var(--sklearn-color-fitted-level-2);\n",
              "}\n",
              "\n",
              "/* Estimator label */\n",
              "\n",
              "#sk-container-id-5 div.sk-label label {\n",
              "  font-family: monospace;\n",
              "  font-weight: bold;\n",
              "  display: inline-block;\n",
              "  line-height: 1.2em;\n",
              "}\n",
              "\n",
              "#sk-container-id-5 div.sk-label-container {\n",
              "  text-align: center;\n",
              "}\n",
              "\n",
              "/* Estimator-specific */\n",
              "#sk-container-id-5 div.sk-estimator {\n",
              "  font-family: monospace;\n",
              "  border: 1px dotted var(--sklearn-color-border-box);\n",
              "  border-radius: 0.25em;\n",
              "  box-sizing: border-box;\n",
              "  margin-bottom: 0.5em;\n",
              "  /* unfitted */\n",
              "  background-color: var(--sklearn-color-unfitted-level-0);\n",
              "}\n",
              "\n",
              "#sk-container-id-5 div.sk-estimator.fitted {\n",
              "  /* fitted */\n",
              "  background-color: var(--sklearn-color-fitted-level-0);\n",
              "}\n",
              "\n",
              "/* on hover */\n",
              "#sk-container-id-5 div.sk-estimator:hover {\n",
              "  /* unfitted */\n",
              "  background-color: var(--sklearn-color-unfitted-level-2);\n",
              "}\n",
              "\n",
              "#sk-container-id-5 div.sk-estimator.fitted:hover {\n",
              "  /* fitted */\n",
              "  background-color: var(--sklearn-color-fitted-level-2);\n",
              "}\n",
              "\n",
              "/* Specification for estimator info (e.g. \"i\" and \"?\") */\n",
              "\n",
              "/* Common style for \"i\" and \"?\" */\n",
              "\n",
              ".sk-estimator-doc-link,\n",
              "a:link.sk-estimator-doc-link,\n",
              "a:visited.sk-estimator-doc-link {\n",
              "  float: right;\n",
              "  font-size: smaller;\n",
              "  line-height: 1em;\n",
              "  font-family: monospace;\n",
              "  background-color: var(--sklearn-color-background);\n",
              "  border-radius: 1em;\n",
              "  height: 1em;\n",
              "  width: 1em;\n",
              "  text-decoration: none !important;\n",
              "  margin-left: 0.5em;\n",
              "  text-align: center;\n",
              "  /* unfitted */\n",
              "  border: var(--sklearn-color-unfitted-level-1) 1pt solid;\n",
              "  color: var(--sklearn-color-unfitted-level-1);\n",
              "}\n",
              "\n",
              ".sk-estimator-doc-link.fitted,\n",
              "a:link.sk-estimator-doc-link.fitted,\n",
              "a:visited.sk-estimator-doc-link.fitted {\n",
              "  /* fitted */\n",
              "  border: var(--sklearn-color-fitted-level-1) 1pt solid;\n",
              "  color: var(--sklearn-color-fitted-level-1);\n",
              "}\n",
              "\n",
              "/* On hover */\n",
              "div.sk-estimator:hover .sk-estimator-doc-link:hover,\n",
              ".sk-estimator-doc-link:hover,\n",
              "div.sk-label-container:hover .sk-estimator-doc-link:hover,\n",
              ".sk-estimator-doc-link:hover {\n",
              "  /* unfitted */\n",
              "  background-color: var(--sklearn-color-unfitted-level-3);\n",
              "  color: var(--sklearn-color-background);\n",
              "  text-decoration: none;\n",
              "}\n",
              "\n",
              "div.sk-estimator.fitted:hover .sk-estimator-doc-link.fitted:hover,\n",
              ".sk-estimator-doc-link.fitted:hover,\n",
              "div.sk-label-container:hover .sk-estimator-doc-link.fitted:hover,\n",
              ".sk-estimator-doc-link.fitted:hover {\n",
              "  /* fitted */\n",
              "  background-color: var(--sklearn-color-fitted-level-3);\n",
              "  color: var(--sklearn-color-background);\n",
              "  text-decoration: none;\n",
              "}\n",
              "\n",
              "/* Span, style for the box shown on hovering the info icon */\n",
              ".sk-estimator-doc-link span {\n",
              "  display: none;\n",
              "  z-index: 9999;\n",
              "  position: relative;\n",
              "  font-weight: normal;\n",
              "  right: .2ex;\n",
              "  padding: .5ex;\n",
              "  margin: .5ex;\n",
              "  width: min-content;\n",
              "  min-width: 20ex;\n",
              "  max-width: 50ex;\n",
              "  color: var(--sklearn-color-text);\n",
              "  box-shadow: 2pt 2pt 4pt #999;\n",
              "  /* unfitted */\n",
              "  background: var(--sklearn-color-unfitted-level-0);\n",
              "  border: .5pt solid var(--sklearn-color-unfitted-level-3);\n",
              "}\n",
              "\n",
              ".sk-estimator-doc-link.fitted span {\n",
              "  /* fitted */\n",
              "  background: var(--sklearn-color-fitted-level-0);\n",
              "  border: var(--sklearn-color-fitted-level-3);\n",
              "}\n",
              "\n",
              ".sk-estimator-doc-link:hover span {\n",
              "  display: block;\n",
              "}\n",
              "\n",
              "/* \"?\"-specific style due to the `<a>` HTML tag */\n",
              "\n",
              "#sk-container-id-5 a.estimator_doc_link {\n",
              "  float: right;\n",
              "  font-size: 1rem;\n",
              "  line-height: 1em;\n",
              "  font-family: monospace;\n",
              "  background-color: var(--sklearn-color-background);\n",
              "  border-radius: 1rem;\n",
              "  height: 1rem;\n",
              "  width: 1rem;\n",
              "  text-decoration: none;\n",
              "  /* unfitted */\n",
              "  color: var(--sklearn-color-unfitted-level-1);\n",
              "  border: var(--sklearn-color-unfitted-level-1) 1pt solid;\n",
              "}\n",
              "\n",
              "#sk-container-id-5 a.estimator_doc_link.fitted {\n",
              "  /* fitted */\n",
              "  border: var(--sklearn-color-fitted-level-1) 1pt solid;\n",
              "  color: var(--sklearn-color-fitted-level-1);\n",
              "}\n",
              "\n",
              "/* On hover */\n",
              "#sk-container-id-5 a.estimator_doc_link:hover {\n",
              "  /* unfitted */\n",
              "  background-color: var(--sklearn-color-unfitted-level-3);\n",
              "  color: var(--sklearn-color-background);\n",
              "  text-decoration: none;\n",
              "}\n",
              "\n",
              "#sk-container-id-5 a.estimator_doc_link.fitted:hover {\n",
              "  /* fitted */\n",
              "  background-color: var(--sklearn-color-fitted-level-3);\n",
              "}\n",
              "</style><div id=\"sk-container-id-5\" class=\"sk-top-container\"><div class=\"sk-text-repr-fallback\"><pre>Pipeline(steps=[(&#x27;preprocessor&#x27;,\n",
              "                 ColumnTransformer(transformers=[(&#x27;num&#x27;, StandardScaler(),\n",
              "                                                  [&#x27;customer.tenure&#x27;,\n",
              "                                                   &#x27;account.Charges.Monthly&#x27;,\n",
              "                                                   &#x27;account.Charges.Total&#x27;,\n",
              "                                                   &#x27;Cuentas_Diarias&#x27;]),\n",
              "                                                 (&#x27;cat&#x27;, OrdinalEncoder(),\n",
              "                                                  [&#x27;account.Contract&#x27;,\n",
              "                                                   &#x27;internet.TechSupport&#x27;,\n",
              "                                                   &#x27;internet.OnlineSecurity&#x27;,\n",
              "                                                   &#x27;account.PaymentMethod&#x27;,\n",
              "                                                   &#x27;internet.OnlineBackup&#x27;,\n",
              "                                                   &#x27;internet.InternetService&#x27;,\n",
              "                                                   &#x27;customer.Partner&#x27;,\n",
              "                                                   &#x27;customer.Dependents&#x27;,\n",
              "                                                   &#x27;account.PaperlessBilling&#x27;,\n",
              "                                                   &#x27;internet.DeviceProtection&#x27;,\n",
              "                                                   &#x27;internet.StreamingMovies&#x27;,\n",
              "                                                   &#x27;customer.SeniorCitizen&#x27;])])),\n",
              "                (&#x27;classifier&#x27;,\n",
              "                 RandomForestClassifier(max_depth=20, n_estimators=200,\n",
              "                                        random_state=42))])</pre><b>In a Jupyter environment, please rerun this cell to show the HTML representation or trust the notebook. <br />On GitHub, the HTML representation is unable to render, please try loading this page with nbviewer.org.</b></div><div class=\"sk-container\" hidden><div class=\"sk-item sk-dashed-wrapped\"><div class=\"sk-label-container\"><div class=\"sk-label fitted sk-toggleable\"><input class=\"sk-toggleable__control sk-hidden--visually\" id=\"sk-estimator-id-5\" type=\"checkbox\" ><label for=\"sk-estimator-id-5\" class=\"sk-toggleable__label fitted sk-toggleable__label-arrow\"><div><div>Pipeline</div></div><div><a class=\"sk-estimator-doc-link fitted\" rel=\"noreferrer\" target=\"_blank\" href=\"https://scikit-learn.org/1.6/modules/generated/sklearn.pipeline.Pipeline.html\">?<span>Documentation for Pipeline</span></a><span class=\"sk-estimator-doc-link fitted\">i<span>Fitted</span></span></div></label><div class=\"sk-toggleable__content fitted\"><pre>Pipeline(steps=[(&#x27;preprocessor&#x27;,\n",
              "                 ColumnTransformer(transformers=[(&#x27;num&#x27;, StandardScaler(),\n",
              "                                                  [&#x27;customer.tenure&#x27;,\n",
              "                                                   &#x27;account.Charges.Monthly&#x27;,\n",
              "                                                   &#x27;account.Charges.Total&#x27;,\n",
              "                                                   &#x27;Cuentas_Diarias&#x27;]),\n",
              "                                                 (&#x27;cat&#x27;, OrdinalEncoder(),\n",
              "                                                  [&#x27;account.Contract&#x27;,\n",
              "                                                   &#x27;internet.TechSupport&#x27;,\n",
              "                                                   &#x27;internet.OnlineSecurity&#x27;,\n",
              "                                                   &#x27;account.PaymentMethod&#x27;,\n",
              "                                                   &#x27;internet.OnlineBackup&#x27;,\n",
              "                                                   &#x27;internet.InternetService&#x27;,\n",
              "                                                   &#x27;customer.Partner&#x27;,\n",
              "                                                   &#x27;customer.Dependents&#x27;,\n",
              "                                                   &#x27;account.PaperlessBilling&#x27;,\n",
              "                                                   &#x27;internet.DeviceProtection&#x27;,\n",
              "                                                   &#x27;internet.StreamingMovies&#x27;,\n",
              "                                                   &#x27;customer.SeniorCitizen&#x27;])])),\n",
              "                (&#x27;classifier&#x27;,\n",
              "                 RandomForestClassifier(max_depth=20, n_estimators=200,\n",
              "                                        random_state=42))])</pre></div> </div></div><div class=\"sk-serial\"><div class=\"sk-item sk-dashed-wrapped\"><div class=\"sk-label-container\"><div class=\"sk-label fitted sk-toggleable\"><input class=\"sk-toggleable__control sk-hidden--visually\" id=\"sk-estimator-id-6\" type=\"checkbox\" ><label for=\"sk-estimator-id-6\" class=\"sk-toggleable__label fitted sk-toggleable__label-arrow\"><div><div>preprocessor: ColumnTransformer</div></div><div><a class=\"sk-estimator-doc-link fitted\" rel=\"noreferrer\" target=\"_blank\" href=\"https://scikit-learn.org/1.6/modules/generated/sklearn.compose.ColumnTransformer.html\">?<span>Documentation for preprocessor: ColumnTransformer</span></a></div></label><div class=\"sk-toggleable__content fitted\"><pre>ColumnTransformer(transformers=[(&#x27;num&#x27;, StandardScaler(),\n",
              "                                 [&#x27;customer.tenure&#x27;, &#x27;account.Charges.Monthly&#x27;,\n",
              "                                  &#x27;account.Charges.Total&#x27;, &#x27;Cuentas_Diarias&#x27;]),\n",
              "                                (&#x27;cat&#x27;, OrdinalEncoder(),\n",
              "                                 [&#x27;account.Contract&#x27;, &#x27;internet.TechSupport&#x27;,\n",
              "                                  &#x27;internet.OnlineSecurity&#x27;,\n",
              "                                  &#x27;account.PaymentMethod&#x27;,\n",
              "                                  &#x27;internet.OnlineBackup&#x27;,\n",
              "                                  &#x27;internet.InternetService&#x27;,\n",
              "                                  &#x27;customer.Partner&#x27;, &#x27;customer.Dependents&#x27;,\n",
              "                                  &#x27;account.PaperlessBilling&#x27;,\n",
              "                                  &#x27;internet.DeviceProtection&#x27;,\n",
              "                                  &#x27;internet.StreamingMovies&#x27;,\n",
              "                                  &#x27;customer.SeniorCitizen&#x27;])])</pre></div> </div></div><div class=\"sk-parallel\"><div class=\"sk-parallel-item\"><div class=\"sk-item\"><div class=\"sk-label-container\"><div class=\"sk-label fitted sk-toggleable\"><input class=\"sk-toggleable__control sk-hidden--visually\" id=\"sk-estimator-id-7\" type=\"checkbox\" ><label for=\"sk-estimator-id-7\" class=\"sk-toggleable__label fitted sk-toggleable__label-arrow\"><div><div>num</div></div></label><div class=\"sk-toggleable__content fitted\"><pre>[&#x27;customer.tenure&#x27;, &#x27;account.Charges.Monthly&#x27;, &#x27;account.Charges.Total&#x27;, &#x27;Cuentas_Diarias&#x27;]</pre></div> </div></div><div class=\"sk-serial\"><div class=\"sk-item\"><div class=\"sk-estimator fitted sk-toggleable\"><input class=\"sk-toggleable__control sk-hidden--visually\" id=\"sk-estimator-id-8\" type=\"checkbox\" ><label for=\"sk-estimator-id-8\" class=\"sk-toggleable__label fitted sk-toggleable__label-arrow\"><div><div>StandardScaler</div></div><div><a class=\"sk-estimator-doc-link fitted\" rel=\"noreferrer\" target=\"_blank\" href=\"https://scikit-learn.org/1.6/modules/generated/sklearn.preprocessing.StandardScaler.html\">?<span>Documentation for StandardScaler</span></a></div></label><div class=\"sk-toggleable__content fitted\"><pre>StandardScaler()</pre></div> </div></div></div></div></div><div class=\"sk-parallel-item\"><div class=\"sk-item\"><div class=\"sk-label-container\"><div class=\"sk-label fitted sk-toggleable\"><input class=\"sk-toggleable__control sk-hidden--visually\" id=\"sk-estimator-id-9\" type=\"checkbox\" ><label for=\"sk-estimator-id-9\" class=\"sk-toggleable__label fitted sk-toggleable__label-arrow\"><div><div>cat</div></div></label><div class=\"sk-toggleable__content fitted\"><pre>[&#x27;account.Contract&#x27;, &#x27;internet.TechSupport&#x27;, &#x27;internet.OnlineSecurity&#x27;, &#x27;account.PaymentMethod&#x27;, &#x27;internet.OnlineBackup&#x27;, &#x27;internet.InternetService&#x27;, &#x27;customer.Partner&#x27;, &#x27;customer.Dependents&#x27;, &#x27;account.PaperlessBilling&#x27;, &#x27;internet.DeviceProtection&#x27;, &#x27;internet.StreamingMovies&#x27;, &#x27;customer.SeniorCitizen&#x27;]</pre></div> </div></div><div class=\"sk-serial\"><div class=\"sk-item\"><div class=\"sk-estimator fitted sk-toggleable\"><input class=\"sk-toggleable__control sk-hidden--visually\" id=\"sk-estimator-id-10\" type=\"checkbox\" ><label for=\"sk-estimator-id-10\" class=\"sk-toggleable__label fitted sk-toggleable__label-arrow\"><div><div>OrdinalEncoder</div></div><div><a class=\"sk-estimator-doc-link fitted\" rel=\"noreferrer\" target=\"_blank\" href=\"https://scikit-learn.org/1.6/modules/generated/sklearn.preprocessing.OrdinalEncoder.html\">?<span>Documentation for OrdinalEncoder</span></a></div></label><div class=\"sk-toggleable__content fitted\"><pre>OrdinalEncoder()</pre></div> </div></div></div></div></div></div></div><div class=\"sk-item\"><div class=\"sk-estimator fitted sk-toggleable\"><input class=\"sk-toggleable__control sk-hidden--visually\" id=\"sk-estimator-id-11\" type=\"checkbox\" ><label for=\"sk-estimator-id-11\" class=\"sk-toggleable__label fitted sk-toggleable__label-arrow\"><div><div>RandomForestClassifier</div></div><div><a class=\"sk-estimator-doc-link fitted\" rel=\"noreferrer\" target=\"_blank\" href=\"https://scikit-learn.org/1.6/modules/generated/sklearn.ensemble.RandomForestClassifier.html\">?<span>Documentation for RandomForestClassifier</span></a></div></label><div class=\"sk-toggleable__content fitted\"><pre>RandomForestClassifier(max_depth=20, n_estimators=200, random_state=42)</pre></div> </div></div></div></div></div></div>"
            ]
          },
          "metadata": {},
          "execution_count": 136
        }
      ]
    },
    {
      "cell_type": "markdown",
      "source": [
        "Serializar el pipeline con joblib"
      ],
      "metadata": {
        "id": "I25aHD2K9qPx"
      }
    },
    {
      "cell_type": "code",
      "source": [
        "import joblib\n",
        "from datetime import datetime\n",
        "\n",
        "timestamp = datetime.now().strftime(\"%Y%m%d_%H%M%S\")\n",
        "model_filename = f\"telecomx_churn_pipeline_{timestamp}.joblib\"\n",
        "\n",
        "joblib.dump(pipeline, model_filename)\n",
        "print(\"Pipeline serializado en:\", model_filename)"
      ],
      "metadata": {
        "colab": {
          "base_uri": "https://localhost:8080/"
        },
        "id": "J1Q3_VMh9r_V",
        "outputId": "ee36ee1a-b5a2-41b6-be76-74c7d0e0b3d2"
      },
      "execution_count": 141,
      "outputs": [
        {
          "output_type": "stream",
          "name": "stdout",
          "text": [
            "Pipeline serializado en: telecomx_churn_pipeline_20250810_225000.joblib\n"
          ]
        }
      ]
    },
    {
      "cell_type": "markdown",
      "source": [
        "Mapeo"
      ],
      "metadata": {
        "id": "5YpbciAoSs5m"
      }
    },
    {
      "cell_type": "markdown",
      "source": [
        "Carga en producción y predicción"
      ],
      "metadata": {
        "id": "01Tn1_eZ9053"
      }
    },
    {
      "cell_type": "code",
      "source": [
        "import joblib\n",
        "import pandas as pd\n",
        "\n",
        "# 1. Cargar el pipeline entrenado\n",
        "loaded_pipeline = joblib.load(\"/content/telecomx_churn_pipeline.joblib\")\n",
        "\n",
        "# 2. Definir mapeos originales (código → etiqueta)\n",
        "mappings = {\n",
        "    \"account.Contract\": {\n",
        "        0: \"Month-to-month\",\n",
        "        1: \"One year\",\n",
        "        2: \"Two year\"\n",
        "    },\n",
        "    \"internet.TechSupport\": {\n",
        "        0: \"No\",\n",
        "        1: \"No internet service\",\n",
        "        2: \"Yes\"\n",
        "    },\n",
        "    \"internet.OnlineSecurity\": {\n",
        "        0: \"No\",\n",
        "        1: \"No internet service\",\n",
        "        2: \"Yes\"\n",
        "    },\n",
        "    \"account.PaymentMethod\": {\n",
        "        0: \"Bank transfer (automatic)\",\n",
        "        1: \"Credit card (automatic)\",\n",
        "        2: \"Electronic check\",\n",
        "        3: \"Mailed check\"\n",
        "    },\n",
        "    \"internet.OnlineBackup\": {\n",
        "        0: \"No\",\n",
        "        1: \"No internet service\",\n",
        "        2: \"Yes\"\n",
        "    },\n",
        "    \"internet.InternetService\": {\n",
        "        0: \"DSL\",\n",
        "        1: \"Fiber optic\",\n",
        "        2: \"No\"\n",
        "    },\n",
        "    \"customer.Partner\": {\n",
        "        0: \"No\",\n",
        "        1: \"Yes\"\n",
        "    },\n",
        "    \"customer.Dependents\": {\n",
        "        0: \"No\",\n",
        "        1: \"Yes\"\n",
        "    },\n",
        "    \"account.PaperlessBilling\": {\n",
        "        0: \"No\",\n",
        "        1: \"Yes\"\n",
        "    },\n",
        "    \"internet.DeviceProtection\": {\n",
        "        0: \"No\",\n",
        "        1: \"No internet service\",\n",
        "        2: \"Yes\"\n",
        "    },\n",
        "    \"internet.StreamingMovies\": {\n",
        "        0: \"No\",\n",
        "        1: \"No internet service\",\n",
        "        2: \"Yes\"\n",
        "    },\n",
        "    \"customer.SeniorCitizen\": {\n",
        "        0: \"No\",\n",
        "        1: \"Yes\"\n",
        "    }\n",
        "}\n",
        "\n",
        "# 3. Construir los mapeos inversos (etiqueta → código)\n",
        "inverse_mappings = {\n",
        "    col: {label: code for code, label in m.items()}\n",
        "    for col, m in mappings.items()\n",
        "}\n",
        "\n",
        "# 4. Crear nuevo lote de datos con etiquetas de texto\n",
        "new_data = pd.DataFrame([{\n",
        "    \"customer.tenure\": 5,\n",
        "    \"account.Charges.Monthly\": 75.50,\n",
        "    \"account.Charges.Total\": 377.50,\n",
        "    \"Cuentas_Diarias\": 75.50 / 5,\n",
        "    \"account.Contract\": \"Month-to-month\",\n",
        "    \"internet.TechSupport\": \"No\",\n",
        "    \"internet.OnlineSecurity\": \"Yes\",\n",
        "    \"account.PaymentMethod\": \"Electronic check\",\n",
        "    \"internet.OnlineBackup\": \"No\",\n",
        "    \"internet.InternetService\": \"DSL\",\n",
        "    \"customer.Partner\": \"Yes\",\n",
        "    \"customer.Dependents\": \"No\",\n",
        "    \"account.PaperlessBilling\": \"Yes\",\n",
        "    \"internet.DeviceProtection\": \"No\",\n",
        "    \"internet.StreamingMovies\": \"No\",\n",
        "    \"customer.SeniorCitizen\": \"No\"\n",
        "}])\n",
        "\n",
        "# 5. Convertir etiquetas a códigos numéricos solo en columnas de texto\n",
        "new_data_encoded = new_data.copy()\n",
        "for col, inv_map in inverse_mappings.items():\n",
        "    if col in new_data_encoded.columns and new_data_encoded[col].dtype == object:\n",
        "        new_data_encoded[col] = new_data_encoded[col].map(inv_map)\n",
        "\n",
        "# 6. Predecir usando el pipeline cargado\n",
        "probas = loaded_pipeline.predict_proba(new_data_encoded)[:, 1]\n",
        "preds  = (probas >= 0.5).astype(int)\n",
        "\n",
        "print(\"Datos codificados para el modelo:\")\n",
        "print(new_data_encoded.to_dict(orient=\"records\")[0])\n",
        "print(\"\\nProbabilidades de churn:\", probas)\n",
        "print(\"Predicciones (0=no churn, 1=churn):\", preds)"
      ],
      "metadata": {
        "colab": {
          "base_uri": "https://localhost:8080/"
        },
        "id": "MH7bKzB2912E",
        "outputId": "77253569-aa11-4d66-c461-60f5a2ca3eec"
      },
      "execution_count": 145,
      "outputs": [
        {
          "output_type": "stream",
          "name": "stdout",
          "text": [
            "Datos codificados para el modelo:\n",
            "{'customer.tenure': 5, 'account.Charges.Monthly': 75.5, 'account.Charges.Total': 377.5, 'Cuentas_Diarias': 15.1, 'account.Contract': 0, 'internet.TechSupport': 0, 'internet.OnlineSecurity': 2, 'account.PaymentMethod': 2, 'internet.OnlineBackup': 0, 'internet.InternetService': 0, 'customer.Partner': 1, 'customer.Dependents': 0, 'account.PaperlessBilling': 1, 'internet.DeviceProtection': 0, 'internet.StreamingMovies': 0, 'customer.SeniorCitizen': 0}\n",
            "\n",
            "Probabilidades de churn: [0.32]\n",
            "Predicciones (0=no churn, 1=churn): [0]\n"
          ]
        }
      ]
    }
  ]
}